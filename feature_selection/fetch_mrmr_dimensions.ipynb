{
 "cells": [
  {
   "cell_type": "code",
   "execution_count": 202,
   "metadata": {
    "collapsed": true
   },
   "outputs": [],
   "source": [
    "#inport neccesary bags\n",
    "\n",
    "import csv#用来保存csv文件\n",
    "import pandas as pd\n",
    "import numpy as np\n",
    "import re\n",
    "import os#用来调用系统程序\n",
    "\n",
    "#改变默认文件夹位置\n",
    "os.chdir(\"/home02/chenhuangrong/humanAndMouse/\")\n",
    "#input path name\n",
    "datapath =\"data/human_2RFH.csv\"\n",
    "\n",
    "#output path name\n",
    "outputpath=\"mRMR/human_2RFH_full.csv\""
   ]
  },
  {
   "cell_type": "code",
   "execution_count": 87,
   "metadata": {
    "collapsed": false
   },
   "outputs": [
    {
     "name": "stdout",
     "output_type": "stream",
     "text": [
      "[[ 1.     1.     1.    ...,  0.     1.     0.075]\n",
      " [ 1.     0.     0.    ...,  1.     1.     0.1  ]\n",
      " [ 1.     1.     0.    ...,  1.     0.     0.175]\n",
      " ..., \n",
      " [ 0.     0.     0.    ...,  1.     1.     0.075]\n",
      " [ 0.     0.     0.    ...,  0.     1.     0.025]\n",
      " [ 0.     0.     0.    ...,  0.     1.     0.05 ]]\n",
      "the shape of data:(2260, 200)\n",
      "the shape of data and class:(2260, 201)\n"
     ]
    }
   ],
   "source": [
    "\"\"\"\n",
    "    mrmr and svm\n",
    "\"\"\"\n",
    "\n",
    "\n",
    "\n",
    "#read csv data from path\n",
    "train_data = pd.read_csv(datapath, header=None, index_col=None)\n",
    "X = np.array(train_data)\n",
    "Y = list(map(lambda x: 1, xrange(len(train_data) // 2)))\n",
    "Y2 = list(map(lambda x: 0, xrange(len(train_data) // 2)))\n",
    "Y.extend(Y2)\n",
    "Y=np.array(Y)\n",
    "Y=Y.reshape(2260,1)\n",
    "\n",
    "#concatenate class and data\n",
    "full_csv_with_class=np.concatenate([Y,X],axis=1)\n",
    "print full_csv_with_class\n",
    "\n",
    "#print the results of original csv data and final full data\n",
    "print \"the shape of data:\"+str(X.shape)\n",
    "print \"the shape of data and class:\"+str(full_csv_with_class.shape)\n",
    "\n",
    "#generating virtual headers\n",
    "columns=[\"class\"]\n",
    "columns_numbers=np.arange(full_csv_with_class.shape[1]-1)\n",
    "columns.extend(columns_numbers)\n",
    "\n",
    "# Write data into files\n",
    "csvFile2 = open(outputpath,'w') \n",
    "writer = csv.writer(csvFile2)\n",
    "m = len(full_csv_with_class)\n",
    "writer.writerow(columns)\n",
    "for i in range(m):\n",
    "    writer.writerow(full_csv_with_class[i])\n",
    "csvFile2.close()"
   ]
  },
  {
   "cell_type": "code",
   "execution_count": 204,
   "metadata": {
    "collapsed": false
   },
   "outputs": [
    {
     "name": "stdout",
     "output_type": "stream",
     "text": [
      "complete \n"
     ]
    }
   ],
   "source": [
    "os.system(\"./mRMR/mrmr -i \"+outputpath+\" -n 200 >mRMR/output.mrmrout\")\n",
    "print \"complete \""
   ]
  },
  {
   "cell_type": "code",
   "execution_count": 210,
   "metadata": {
    "collapsed": false
   },
   "outputs": [
    {
     "name": "stdout",
     "output_type": "stream",
     "text": [
      "[133, 135, 140, 130, 145, 110, 115, 105, 120, 125, 150, 102, 185, 190, 180, 195, 100, 160, 165, 155, 170, 175, 101, 5, 85, 95, 98, 90, 99, 200, 177, 33, 50, 14, 8, 149, 109, 94, 121, 134, 113, 84, 21, 156, 71, 31, 6, 59, 189, 158, 122, 176, 58, 46, 64, 188, 10, 1, 38, 184, 19, 138, 2, 159, 81, 181, 44, 199, 26, 63, 82, 45, 148, 114, 172, 183, 32, 7, 48, 131, 146, 163, 83, 39, 49, 171, 80, 132, 197, 77, 88, 56, 9, 157, 198, 75, 164, 147, 70, 76, 196, 27, 182, 25, 96, 127, 13, 57, 126, 65, 107, 34, 108, 60, 139, 69, 55, 89, 30, 35, 40, 106, 20, 15, 104, 97, 111, 18, 103, 41, 78, 116, 61, 192, 3, 43, 67, 23, 118, 191, 4, 11, 194, 119, 66, 17, 87, 137, 136, 167, 141, 53, 117, 154, 28, 86, 42, 151, 52, 74, 68, 193, 51, 22, 179, 153, 62, 186, 152, 169, 12, 161, 129, 112, 166, 93, 47, 79, 162, 128, 29, 16, 143, 36, 187, 168, 144, 73, 124, 91, 54, 174, 178, 24, 173, 37, 142, 72, 123, 92]\n"
     ]
    }
   ],
   "source": [
    "#读取文件\n",
    "\n",
    "fn=open(\"mRMR/output.mrmrout\",'r')\n",
    "location_mark=0\n",
    "final_set=[]\n",
    "for line in fn.readlines():\n",
    "    if line.strip() ==\"\":\n",
    "        location_mark=0\n",
    "    if location_mark==1 and line.split()[1]!=\"Fea\":\n",
    "         final_set.append(int(line.split()[1]))\n",
    "    if re.findall(r\"mRMR\",line) and re.findall(r\"feature\",line):\n",
    "        location_mark=1\n",
    "print final_set"
   ]
  },
  {
   "cell_type": "code",
   "execution_count": 215,
   "metadata": {
    "collapsed": false
   },
   "outputs": [],
   "source": [
    "precision_copy=0\n",
    "recall_copy=0\n",
    "SN_copy=0\n",
    "SP_copy=0\n",
    "GM_copy=0\n",
    "TP_copy=0\n",
    "TN_copy=0\n",
    "FP_copy=0\n",
    "FN_copy=0\n",
    "ACC_copy=0\n",
    "F1_Score_copy=0\n",
    "F_measure_copy=0\n",
    "MCC_copy=0\n",
    "pos_copy=0\n",
    "neg_copy=0\n",
    "y_pred_prob_copy=[]\n",
    "y_pred_copy=[]"
   ]
  }
 ],
 "metadata": {
  "kernelspec": {
   "display_name": "Python 2",
   "language": "python",
   "name": "python2"
  },
  "language_info": {
   "codemirror_mode": {
    "name": "ipython",
    "version": 2
   },
   "file_extension": ".py",
   "mimetype": "text/x-python",
   "name": "python",
   "nbconvert_exporter": "python",
   "pygments_lexer": "ipython2",
   "version": "2.7.12"
  }
 },
 "nbformat": 4,
 "nbformat_minor": 0
}
