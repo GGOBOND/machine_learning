{
 "cells": [
  {
   "cell_type": "code",
   "execution_count": 7,
   "metadata": {
    "collapsed": false
   },
   "outputs": [
    {
     "name": "stdout",
     "output_type": "stream",
     "text": [
      "first_file_num: 2614\n",
      "first_file_length: 204\n",
      "second_file_num: 2614\n",
      "second_file_length: 20\n",
      "output_file_num: 2614\n",
      "output_file_len: 224\n",
      "normalization\n"
     ]
    }
   ],
   "source": [
    "import pandas as pd\n",
    "import numpy as ny\n",
    "import sys\n",
    "from sklearn.preprocessing import MinMaxScaler\n",
    "import numpy as np\n",
    "input_file1=\"/home02/chenhuangrong/december_data/RFH_feature.csv\"\n",
    "input_file2=\"/home02/chenhuangrong/december_data/KNN.csv\"\n",
    "output_file=\"/home02/chenhuangrong/december_data/RFH_KNN.csv\"\n",
    "RFH_=pd.read_csv(input_file1,header=None,index_col=None)#sys.argv[1])\n",
    "end=len(RFH_.values[0])\n",
    "RFH_=RFH_.values[:,0:end]\n",
    "RFH_=pd.DataFrame(RFH_).astype(float)\n",
    "#PseDNC_=pd.read_csv(sys.argv[2],header=None,index_col=None)\n",
    "PseDNC_=pd.read_csv(input_file2,header=None,index_col=None)\n",
    "PseDNC_=pd.DataFrame(PseDNC_).astype(float)\n",
    "print \"first_file_num:\",len(RFH_)\n",
    "print \"first_file_length:\",len(RFH_.values[0])\n",
    "print \"second_file_num:\",len(PseDNC_)\n",
    "print \"second_file_length:\",len(PseDNC_.values[0])\n",
    "RFH_PseDNC=pd.concat([RFH_,PseDNC_],axis=1)\n",
    "print \"output_file_num:\",len(RFH_PseDNC)\n",
    "print \"output_file_len:\",len(RFH_PseDNC.values[0])\n",
    "\n",
    "scaler=MinMaxScaler()\n",
    "RFH_PseDNC=scaler.fit_transform(np.array(RFH_PseDNC))\n",
    "print \"normalization\"\n",
    "# scaler.fit_transform(np.array(RFH_PseDNC))\n",
    "pd.DataFrame(RFH_PseDNC).to_csv(output_file,header=None,index=False)\n",
    "# print RFH_PseDNC"
   ]
  }
 ],
 "metadata": {
  "kernelspec": {
   "display_name": "Python 2",
   "language": "python",
   "name": "python2"
  },
  "language_info": {
   "codemirror_mode": {
    "name": "ipython",
    "version": 2
   },
   "file_extension": ".py",
   "mimetype": "text/x-python",
   "name": "python",
   "nbconvert_exporter": "python",
   "pygments_lexer": "ipython2",
   "version": "2.7.12"
  }
 },
 "nbformat": 4,
 "nbformat_minor": 0
}
