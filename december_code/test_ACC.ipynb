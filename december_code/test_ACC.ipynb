{
 "cells": [
  {
   "cell_type": "code",
   "execution_count": 1,
   "metadata": {
    "collapsed": false
   },
   "outputs": [
    {
     "name": "stdout",
     "output_type": "stream",
     "text": [
      "PseEIIP_predict_original.csv\n",
      "independent_PCP_predict.csv\n",
      "KNN_predict.csv\n",
      "independent11_PseEIIP_predict.csv\n",
      "GAC_RFH_original.csv\n",
      "5\n",
      "0.667941851568\n",
      "0.687069625096\n",
      "0.715761285386\n",
      "0.663733741393\n",
      "0.727237949503\n"
     ]
    }
   ],
   "source": [
    "import os \n",
    "import numpy as np\n",
    "import pandas as pd\n",
    "from sklearn.metrics import *\n",
    "from sklearn.svm import SVC\n",
    "from sklearn.model_selection import GridSearchCV\n",
    "from sklearn.model_selection import *\n",
    "def generating_integrated_training(file_dir,samples_size):   \n",
    "    Y=[1 for e in xrange(samples_size)]\n",
    "    Y2=[0 for e in xrange(samples_size)]\n",
    "    Y.extend(Y2)\n",
    "    X=[]\n",
    "    for root, dirs, files in os.walk(file_dir):  \n",
    "#         print(root) #当前目录路径  \n",
    "#         print(dirs) #当前路径下所有子目录  \n",
    "        for e in files:\n",
    "            if e==\"GAC_RFH_original.csv\" or e==\"PseEIIP_predict_original.csv\" or e==\"independent_PCP_predict.csv\" or e==\"KNN_predict.csv\" or  e==\"independent11_PseEIIP_predict.csv\":\n",
    "#             if e==\"GAC_RFH_original.csv\" or e==\"PseEIIP_predict_original.csv\" or e==\"independent_PCP_predict.csv\" or e==\"KNN_predict.csv\":\n",
    "#             if e==\"independent_RFHC_GAC_predict.csv\" or e==\"independent2_PseEIIP_predict.csv\" or e==\"PCP_predict_original.csv\" or e==\"KNN_predict.csv\":\n",
    "                print e\n",
    "                data=pd.read_csv(root+'/'+e,header=None,index_col=False)\n",
    "                data=data.values\n",
    "                positive_=[e for index,e in enumerate(data) if data[index,0] == 1 ]\n",
    "                negative_=[e for index,e in enumerate(data) if data[index,0] == 0 ]\n",
    "                positive_.extend(negative_)\n",
    "                data=np.array(positive_)\n",
    "                data=data[:,1]#设置为probability:2或者predict_label:1\n",
    "                X.append(data)\n",
    "    print len(X)  \n",
    "    X=np.array(X).T\n",
    "    return X,Y\n",
    "X,Y=generating_integrated_training('/home02/chenhuangrong/december_data',1307)\n",
    "for i in xrange(len(X[0])):\n",
    "    ACC=accuracy_score(Y,X[:,i])\n",
    "    print ACC\n",
    "\n",
    "\n"
   ]
  }
 ],
 "metadata": {
  "kernelspec": {
   "display_name": "Python 2",
   "language": "python",
   "name": "python2"
  },
  "language_info": {
   "codemirror_mode": {
    "name": "ipython",
    "version": 2
   },
   "file_extension": ".py",
   "mimetype": "text/x-python",
   "name": "python",
   "nbconvert_exporter": "python",
   "pygments_lexer": "ipython2",
   "version": "2.7.12"
  }
 },
 "nbformat": 4,
 "nbformat_minor": 0
}
