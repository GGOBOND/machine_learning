{
 "cells": [
  {
   "cell_type": "code",
   "execution_count": 133,
   "metadata": {
    "collapsed": false
   },
   "outputs": [
    {
     "name": "stdout",
     "output_type": "stream",
     "text": [
      "0.667977099237\n"
     ]
    }
   ],
   "source": [
    "import pandas as pd\n",
    "import numpy as py\n",
    "from sklearn import metrics\n",
    "data=pd.read_csv(\"/home02/chenhuangrong/before_december_data/PseEIIP_predict.csv\",header=None,index_col=False)\n",
    "data=data.values\n",
    "temp=1\n",
    "ACC_a=0\n",
    "ACC=0\n",
    "add_value=0\n",
    "Y=[]\n",
    "Y_pre=[]\n",
    "for index,value in enumerate(data):\n",
    "    if temp==0 and value[0]==1:\n",
    "        ACC=metrics.accuracy_score(Y,Y_pre)\n",
    "        ACC_a=ACC_a+ACC\n",
    "        Y=[]\n",
    "        Y_pre=[]\n",
    "    if value[0]==1:\n",
    "        temp=1\n",
    "        Y.append(1)\n",
    "    else:\n",
    "        temp=0\n",
    "        Y.append(0)\n",
    "    Y_pre.append(value[1])\n",
    "ACC=metrics.accuracy_score(Y,Y_pre)\n",
    "ACC_a=ACC_a+ACC\n",
    "print ACC_a/10.0\n",
    "        "
   ]
  }
 ],
 "metadata": {
  "kernelspec": {
   "display_name": "Python 2",
   "language": "python",
   "name": "python2"
  },
  "language_info": {
   "codemirror_mode": {
    "name": "ipython",
    "version": 2
   },
   "file_extension": ".py",
   "mimetype": "text/x-python",
   "name": "python",
   "nbconvert_exporter": "python",
   "pygments_lexer": "ipython2",
   "version": "2.7.12"
  }
 },
 "nbformat": 4,
 "nbformat_minor": 0
}
