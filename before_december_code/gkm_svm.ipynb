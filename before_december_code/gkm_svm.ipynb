{
 "cells": [
  {
   "cell_type": "code",
   "execution_count": 56,
   "metadata": {
    "collapsed": true
   },
   "outputs": [],
   "source": [
    "# !/use/bin/env python\n",
    "# encoding:utf-8\n",
    "import pandas as pd\n",
    "import numpy as np\n",
    "import itertools\n",
    "from sklearn.model_selection import KFold  \n",
    "from sklearn import svm\n",
    "from sklearn.model_selection import train_test_split\n",
    "import math\n",
    "import easy_excel\n",
    "from sklearn.preprocessing import MinMaxScaler\n",
    "from sklearn.model_selection import *\n",
    "import sklearn.ensemble\n",
    "import joblib\n",
    "from sklearn import metrics\n",
    "from sklearn.metrics import roc_curve, auc\n",
    "import sys\n",
    "from sklearn.model_selection import GridSearchCV\n",
    "import subprocess\n",
    "from sklearn.utils import shuffle\n",
    "import itertools\n",
    "name=\"gkmSVM\""
   ]
  },
  {
   "cell_type": "code",
   "execution_count": 57,
   "metadata": {
    "collapsed": true
   },
   "outputs": [],
   "source": [
    "def performance(labelArr, predictArr):\n",
    "    #labelArr[i] is actual value,predictArr[i] is predict value\n",
    "    TP = 0.; TN = 0.; FP = 0.; FN = 0.\n",
    "    for i in range(len(labelArr)):\n",
    "        if labelArr[i] == 1 and predictArr[i] == 1:\n",
    "            TP += 1.\n",
    "        if labelArr[i] == 1 and predictArr[i] == 0:\n",
    "            FN += 1.\n",
    "        if labelArr[i] == 0 and predictArr[i] == 1:\n",
    "            FP += 1.\n",
    "        if labelArr[i] == 0 and predictArr[i] == 0:\n",
    "            TN += 1.\n",
    "    if (TP + FN)==0:\n",
    "        SN=0\n",
    "    else:\n",
    "        SN = TP/(TP + FN) #Sensitivity = TP/P  and P = TP + FN\n",
    "    if (FP+TN)==0:\n",
    "        SP=0\n",
    "    else:\n",
    "        SP = TN/(FP + TN) #Specificity = TN/N  and N = TN + FP\n",
    "    if (TP+FP)==0:\n",
    "        precision=0\n",
    "    else:\n",
    "        precision=TP/(TP+FP)\n",
    "    if (TP+FN)==0:\n",
    "        recall==0\n",
    "    else:\n",
    "        recall=TP/(TP+FN)\n",
    "    GM=math.sqrt(recall*SP)\n",
    "    #MCC = (TP*TN-FP*FN)/math.sqrt((TP+FP)*(TP+FN)*(TN+FP)*(TN+FN))\n",
    "    return precision,recall,SN,SP,GM,TP,TN,FP,FN"
   ]
  },
  {
   "cell_type": "code",
   "execution_count": 18,
   "metadata": {
    "collapsed": false
   },
   "outputs": [
    {
     "name": "stdout",
     "output_type": "stream",
     "text": [
      "[ 0.997532  0.997035  0.89321  ..., -0.226323 -0.998673 -0.998258]\n"
     ]
    }
   ],
   "source": [
    "p_data=np.loadtxt(\"/home01/chenhuangrong/gkmsvm/pos.out\", delimiter='\t',dtype=np.string0) #以，分隔符读取\n",
    "n_data=np.loadtxt('/home01/chenhuangrong/gkmsvm/neg.out',delimiter='\t',dtype=np.string0)\n",
    "p_data=p_data[:,1].astype(np.float)\n",
    "n_data=n_data[:,1].astype(np.float)\n",
    "data=np.concatenate((p_data,n_data),axis=0)\n",
    "print data"
   ]
  },
  {
   "cell_type": "code",
   "execution_count": 107,
   "metadata": {
    "collapsed": false
   },
   "outputs": [
    {
     "name": "stdout",
     "output_type": "stream",
     "text": [
      "[[['svmC:0gamma:0', 0.98814078041315989, 0.9811463046757164, 0.9954093343534812, 0.9954093343534812, 0.9808722264728386, 0.9881140470811784, 0.98822635776680579, 0.98822635776680579, 0.97638473475269782, 0.99920796090031383, 1301.0, 6.0, 25.0, 1282.0, 1307.0, 1307.0]]]\n"
     ]
    }
   ],
   "source": [
    "\"\"\"\n",
    "    cross validation\n",
    "\"\"\"\n",
    "p_data=np.loadtxt(\"/home01/chenhuangrong/gkmsvm/pos.out\", delimiter='\t',dtype=np.string0) #以，分隔符读取\n",
    "n_data=np.loadtxt('/home01/chenhuangrong/gkmsvm/neg.out',delimiter='\t',dtype=np.string0)\n",
    "p_data=p_data[:,1].astype(np.float)\n",
    "n_data=n_data[:,1].astype(np.float)\n",
    "data=np.concatenate((p_data,n_data),axis=0)\n",
    "train_data = data\n",
    "y_predict=[1 if e>0 else 0 for e in data ]\n",
    "X = np.array(train_data)\n",
    "Y = list(map(lambda x: 1, xrange(len(train_data) / 2)))\n",
    "Y2 = list(map(lambda x: 0, xrange(len(train_data) / 2)))\n",
    "Y.extend(Y2)\n",
    "Y = np.array(Y)\n",
    "fpr, tpr, thresholds = roc_curve(Y, data)\n",
    "roc_auc = auc(fpr, tpr)\n",
    "ACC=metrics.accuracy_score(Y,y_predict)\n",
    "precision, recall, SN, SP, GM, TP, TN, FP, FN = performance(Y, y_predict)\n",
    "F1_Score=metrics.f1_score(Y, y_predict)\n",
    "F_measure=F1_Score\n",
    "MCC=metrics.matthews_corrcoef(Y, y_predict)\n",
    "pos=TP+FN\n",
    "neg=FP+TN\n",
    "C=0\n",
    "gamma=0\n",
    "savedata=[[['svm'+\"C:\"+str(C)+\"gamma:\"+str(gamma),ACC,precision, recall,SN, SP, GM,F_measure,F1_Score,MCC,roc_auc,TP,FN,FP,TN,pos,neg]]]\n",
    "print savedata\n",
    "\n",
    "# easy_excel.save(\"svm_crossvalidation\",[str(X.shape[1])],savedata,'/home02/chenhuangrong/cross_validation_'+name+'.xls')"
   ]
  },
  {
   "cell_type": "code",
   "execution_count": 109,
   "metadata": {
    "collapsed": false
   },
   "outputs": [
    {
     "name": "stdout",
     "output_type": "stream",
     "text": [
      "[ 0.35659  0.15753  0.08193 ...,  0.46114 -0.06591 -0.27961]\n",
      "[[['svmC:0gamma:0', 0.68668706962509563, 0.721415607985481, 0.6082631981637338, 0.6082631981637338, 0.7651109410864575, 0.682194127778386, 0.66002490660024904, 0.66002490660024904, 0.3780533834132484, 0.75996795549126628, 795.0, 512.0, 307.0, 1000.0, 1307.0, 1307.0]]]\n"
     ]
    }
   ],
   "source": [
    "\"\"\"\n",
    "    cross validation\n",
    "\"\"\"\n",
    "data=np.loadtxt(\"/home01/chenhuangrong/gkmsvm/cvpred.out\", delimiter='\t',dtype=np.string0) #以，分隔符读取\n",
    "data=data[:,1].astype(np.float)\n",
    "train_data = data\n",
    "print train_data\n",
    "ACC_=0\n",
    "X = np.array(train_data)\n",
    "Y = list(map(lambda x: 1, xrange(len(train_data) / 2)))\n",
    "Y2 = list(map(lambda x: 0, xrange(len(train_data) / 2)))\n",
    "Y.extend(Y2)\n",
    "Y = np.array(Y)\n",
    "fpr, tpr, thresholds = roc_curve(Y, data)\n",
    "roc_auc = auc(fpr, tpr)\n",
    "y_predict=[1 if e> 0 else 0 for e in data ]\n",
    "ACC=metrics.accuracy_score(Y,y_predict)\n",
    "precision, recall, SN, SP, GM, TP, TN, FP, FN = performance(Y, y_predict)\n",
    "F1_Score=metrics.f1_score(Y, y_predict)\n",
    "F_measure=F1_Score\n",
    "MCC=metrics.matthews_corrcoef(Y, y_predict)\n",
    "pos=TP+FN\n",
    "neg=FP+TN\n",
    "C=0\n",
    "gamma=0\n",
    "savedata=[[['svm'+\"C:\"+str(C)+\"gamma:\"+str(gamma),ACC,precision, recall,SN, SP, GM,F_measure,F1_Score,MCC,roc_auc,TP,FN,FP,TN,pos,neg]]]\n",
    "print savedata\n",
    "\n",
    "# easy_excel.save(\"svm_crossvalidation\",[str(X.shape[1])],savedata,'/home02/chenhuangrong/cross_validation_'+name+'.xls')"
   ]
  }
 ],
 "metadata": {
  "kernelspec": {
   "display_name": "Python 2",
   "language": "python",
   "name": "python2"
  },
  "language_info": {
   "codemirror_mode": {
    "name": "ipython",
    "version": 2
   },
   "file_extension": ".py",
   "mimetype": "text/x-python",
   "name": "python",
   "nbconvert_exporter": "python",
   "pygments_lexer": "ipython2",
   "version": "2.7.12"
  }
 },
 "nbformat": 4,
 "nbformat_minor": 0
}
