{
 "cells": [
  {
   "cell_type": "code",
   "execution_count": 4,
   "metadata": {
    "collapsed": false
   },
   "outputs": [
    {
     "name": "stdout",
     "output_type": "stream",
     "text": [
      "(2614, 192)\n"
     ]
    }
   ],
   "source": [
    "from __future__ import division\n",
    "import sys\n",
    "import numpy as np\n",
    "import pandas as pd\n",
    "def convert():\n",
    "    \"\"\"RFH feature\"\"\"\n",
    "    dataPath= \"/home02/chenhuangrong/m6a_data.txt\"\n",
    "    lines=open(dataPath).readlines()\n",
    "    outputPath=\"/home02/chenhuangrong/GAC_RFH.csv\"\n",
    "    classifier_type='U'#sys.argv[3]\n",
    "    finally_text = open(outputPath, 'w')\n",
    "    finnaly_lines=\"\"\n",
    "    for line in lines:\n",
    "        if line.strip()==\"\":continue\n",
    "        if line.strip()[0] in ['A','G','C',classifier_type]:\n",
    "            position_mark=0\n",
    "            count_AGCT=[0,0,0,0]\n",
    "            temp = \"\"\n",
    "            one_line=list(line.strip())\n",
    "            for i,x in enumerate(one_line):\n",
    "                if i!=24 and i!=25 and i!=26:\n",
    "                    position_mark+=1\n",
    "                    if x==\"A\" or x==\"G\":temp+=\"1,\"\n",
    "                    else:temp+=\"0,\"\n",
    "                    if x==\"A\" or x==classifier_type:temp+=\"1,\"\n",
    "                    else:temp+=\"0,\"\n",
    "                    if x == \"A\" or x == \"C\":temp+=\"1,\"\n",
    "                    else:temp+=\"0,\"\n",
    "                    if x == \"A\":\n",
    "                        count_AGCT[0] += 1\n",
    "                        temp +=str(round(count_AGCT[0] / position_mark*1.0,2))\n",
    "                        temp+=','\n",
    "                    elif x == \"G\":\n",
    "                        count_AGCT[1] += 1\n",
    "                        temp +=str(round(count_AGCT[1] / position_mark*1.0,2))\n",
    "                        temp += ','\n",
    "                    elif x == \"C\":\n",
    "                        count_AGCT[2] += 1\n",
    "                        temp +=str(round(count_AGCT[2] / position_mark*1.0,2))\n",
    "                        temp += ','\n",
    "                    elif x == classifier_type:\n",
    "                        count_AGCT[3] += 1\n",
    "                        temp +=str(round(count_AGCT[3] / position_mark*1.0,2))\n",
    "                        temp += ','\n",
    "\n",
    "            finnaly_lines+=((temp[:len(temp)-1])+'\\n')\n",
    "            #finally_text.write(temp+'\\n')\n",
    "    finally_text.writelines(finnaly_lines)\n",
    "    finally_text.close()\n",
    "convert()\n",
    "data=pd.read_csv('/home02/chenhuangrong/GAC_RFH.csv',header=None,index_col=False)\n",
    "data=data.values\n",
    "print data.shape"
   ]
  }
 ],
 "metadata": {
  "kernelspec": {
   "display_name": "Python 2",
   "language": "python",
   "name": "python2"
  },
  "language_info": {
   "codemirror_mode": {
    "name": "ipython",
    "version": 2
   },
   "file_extension": ".py",
   "mimetype": "text/x-python",
   "name": "python",
   "nbconvert_exporter": "python",
   "pygments_lexer": "ipython2",
   "version": "2.7.12"
  }
 },
 "nbformat": 4,
 "nbformat_minor": 0
}
