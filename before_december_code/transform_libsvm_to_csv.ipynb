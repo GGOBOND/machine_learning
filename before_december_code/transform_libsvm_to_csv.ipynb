{
 "cells": [
  {
   "cell_type": "code",
   "execution_count": 71,
   "metadata": {
    "collapsed": false
   },
   "outputs": [],
   "source": [
    "import numpy as np\n",
    "import pandas as pd\n",
    "def transform_libsvm_to_csv(line_size,path):\n",
    "    data=[]\n",
    "    with open(path,'r') as mo:\n",
    "#         Fmo=mo.read()\n",
    "        for line in  mo:\n",
    "            line_value=np.zeros(line_size)\n",
    "            cell=line.split('  ')\n",
    "            for i,index in enumerate(cell):\n",
    "                if i !=0:\n",
    "                    index=index.strip()\n",
    "                    num=index.split(':')[0].strip()\n",
    "                    num=int(num)-1\n",
    "                    line_value[num]=1\n",
    "            data.append(line_value)\n",
    "    data=np.array(data)\n",
    "    return data\n",
    "data=transform_libsvm_to_csv(3558,'/home02/chenhuangrong/motif.libsvm')\n",
    "pd.DataFrame(data).to_csv('/home02/chenhuangrong/motif_right.csv',header=None,index=False)"
   ]
  }
 ],
 "metadata": {
  "kernelspec": {
   "display_name": "Python 2",
   "language": "python",
   "name": "python2"
  },
  "language_info": {
   "codemirror_mode": {
    "name": "ipython",
    "version": 2
   },
   "file_extension": ".py",
   "mimetype": "text/x-python",
   "name": "python",
   "nbconvert_exporter": "python",
   "pygments_lexer": "ipython2",
   "version": "2.7.12"
  }
 },
 "nbformat": 4,
 "nbformat_minor": 0
}
