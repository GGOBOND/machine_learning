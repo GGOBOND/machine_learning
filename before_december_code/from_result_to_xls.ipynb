{
 "cells": [
  {
   "cell_type": "code",
   "execution_count": 9,
   "metadata": {
    "collapsed": false
   },
   "outputs": [
    {
     "name": "stdout",
     "output_type": "stream",
     "text": [
      "[[['svmC:1.25992104989gamma:0.03125', 0.6315990818668707, 0.590146750524109, 0.8615149196633511, 0.8615149196633511, 0.4016832440703902, 0.5882653378751943, 0.7004665629860031, 0.7004665629860031, 0.296392293161598, '0.6315', 1126.0, 181.0, 782.0, 525.0, 1307.0, 1307.0]]]\n"
     ]
    },
    {
     "data": {
      "text/plain": [
       "True"
      ]
     },
     "execution_count": 9,
     "metadata": {},
     "output_type": "execute_result"
    }
   ],
   "source": [
    "import easy_excel\n",
    "savedata=[[['svmC:1.25992104989gamma:0.03125', 0.63159908186687075, 0.590146750524109, 0.8615149196633511, 0.8615149196633511, 0.4016832440703902, 0.5882653378751943, 0.70046656298600307, 0.70046656298600307, 0.29639229316159799, '0.6315', 1126.0, 181.0, 782.0, 525.0, 1307.0, 1307.0]]]\n",
    "print savedata\n",
    "easy_excel.save(\"svm_crossvalidation\",[str(0)],savedata,'/home02/chenhuangrong/motif.xls')"
   ]
  }
 ],
 "metadata": {
  "kernelspec": {
   "display_name": "Python 2",
   "language": "python",
   "name": "python2"
  },
  "language_info": {
   "codemirror_mode": {
    "name": "ipython",
    "version": 2
   },
   "file_extension": ".py",
   "mimetype": "text/x-python",
   "name": "python",
   "nbconvert_exporter": "python",
   "pygments_lexer": "ipython2",
   "version": "2.7.12"
  }
 },
 "nbformat": 4,
 "nbformat_minor": 0
}
