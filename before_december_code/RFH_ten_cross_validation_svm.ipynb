{
 "cells": [
  {
   "cell_type": "code",
   "execution_count": 1,
   "metadata": {
    "collapsed": false
   },
   "outputs": [
    {
     "name": "stdout",
     "output_type": "stream",
     "text": [
      "0.737184391737\n",
      "[[['svmC:0.513002242354gamma:0.0374020008171', 0.73718439173680184, 0.7410575427682737, 0.7291507268553941, 0.7291507268553941, 0.7452180566182096, 0.737140615926793, 0.73505591978403406, 0.73505591978403406, 0.47443002663743306, '0.7371', 953.0, 354.0, 333.0, 974.0, 1307.0, 1307.0]]]\n"
     ]
    }
   ],
   "source": [
    "from sklearn import svm\n",
    "\n",
    "import numpy as np\n",
    "import pandas as pd\n",
    "import math\n",
    "import easy_excel\n",
    "from sklearn.model_selection import *\n",
    "import sklearn.ensemble\n",
    "from sklearn import metrics\n",
    "import sys\n",
    "from sklearn.model_selection import GridSearchCV\n",
    "def performance(labelArr, predictArr):\n",
    "    #labelArr[i] is actual value,predictArr[i] is predict value\n",
    "    TP = 0.; TN = 0.; FP = 0.; FN = 0.\n",
    "    for i in range(len(labelArr)):\n",
    "        if labelArr[i] == 1 and predictArr[i] == 1:\n",
    "            TP += 1.\n",
    "        if labelArr[i] == 1 and predictArr[i] == 0:\n",
    "            FN += 1.\n",
    "        if labelArr[i] == 0 and predictArr[i] == 1:\n",
    "            FP += 1.\n",
    "        if labelArr[i] == 0 and predictArr[i] == 0:\n",
    "            TN += 1.\n",
    "    SN = TP/(TP + FN) #Sensitivity = TP/P  and P = TP + FN\n",
    "    SP = TN/(FP + TN) #Specificity = TN/N  and N = TN + FP\n",
    "    precision=TP/(TP+FP)\n",
    "    recall=TP/(TP+FN)\n",
    "    GM=math.sqrt(recall*SP)\n",
    "    #MCC = (TP*TN-FP*FN)/math.sqrt((TP+FP)*(TP+FN)*(TN+FP)*(TN+FN))\n",
    "    return precision,recall,SN,SP,GM,TP,TN,FP,FN\n",
    "\n",
    "def svm_crossvalidation():\n",
    "    if __name__=='__main__':\n",
    "        datapath ='/home01/chenhuangrong/ROC/RFH_feature.csv'\n",
    "        train_data = pd.read_csv(datapath, header=None, index_col=None)\n",
    "        X = np.array(train_data)\n",
    "        Y = list(map(lambda x: 1, xrange(len(train_data) / 2)))\n",
    "        Y2 = list(map(lambda x: 0, xrange(len(train_data) / 2)))\n",
    "        Y.extend(Y2)\n",
    "        Y = np.array(Y)\n",
    "        svc = svm.SVC()\n",
    "        parameters = {'kernel': ['rbf'], 'C':map(lambda x:2**x,np.linspace(-2,5,7)), 'gamma':map(lambda x:2**x,np.linspace(-5,2,7))}\n",
    "        clf = GridSearchCV(svc, parameters, cv=10, n_jobs=-1, scoring='accuracy')\n",
    "        clf.fit(X, Y)\n",
    "        C=clf.best_params_['C']\n",
    "        print clf.best_score_\n",
    "        gamma=clf.best_params_['gamma']\n",
    "        y_predict=cross_val_predict(svm.SVC(kernel='rbf',C=C,gamma=gamma),X,Y,cv=10,n_jobs=-1)\n",
    "        ROC_AUC_area=\"%0.4f\"%cross_val_score(svm.SVC(kernel='rbf',C=C,gamma=gamma),X,Y,cv=10,n_jobs=-1).mean()\n",
    "        ACC=metrics.accuracy_score(Y,y_predict)\n",
    "        precision, recall, SN, SP, GM, TP, TN, FP, FN = performance(Y, y_predict)\n",
    "        F1_Score=metrics.f1_score(Y, y_predict)\n",
    "        F_measure=F1_Score\n",
    "        MCC=metrics.matthews_corrcoef(Y, y_predict)\n",
    "        pos=TP+FN\n",
    "        neg=FP+TN\n",
    "        savedata=[[['svm'+\"C:\"+str(C)+\"gamma:\"+str(gamma),ACC,precision, recall,SN, SP, GM,F_measure,F1_Score,MCC,ROC_AUC_area,TP,FN,FP,TN,pos,neg]]]\n",
    "        print savedata\n",
    "        easy_excel.save(\"svm_crossvalidation\",[str(X.shape[1])],savedata,'/home01/chenhuangrong/ROC/RFH_ten_cross_validation.xls')\n",
    "        y_predict_proba=cross_val_predict(svm.SVC(kernel='rbf',C=C,gamma=gamma,probability=True),X,Y,cv=10,method=\"predict_proba\")\n",
    "        Y=pd.DataFrame(Y)    \n",
    "        y_predict_proba=pd.DataFrame(y_predict_proba)\n",
    "        y_predict_proba=pd.concat([Y,y_predict_proba],axis=1)\n",
    "        pd.DataFrame(y_predict_proba).to_csv('/home01/chenhuangrong/ROC/RFH_ten_cross_validation_label.csv',header=None,index=False)\n",
    "        y_predict=pd.DataFrame(y_predict)\n",
    "        y_predict_=pd.concat([Y,y_predict],axis=1)\n",
    "        pd.DataFrame(y_predict_).to_csv('/home01/chenhuangrong/ROC/RFH_ten_cross_validation_predict.csv',header=None,index=False)\n",
    "svm_crossvalidation()\n",
    "\n"
   ]
  }
 ],
 "metadata": {
  "kernelspec": {
   "display_name": "Python 2",
   "language": "python",
   "name": "python2"
  },
  "language_info": {
   "codemirror_mode": {
    "name": "ipython",
    "version": 2
   },
   "file_extension": ".py",
   "mimetype": "text/x-python",
   "name": "python",
   "nbconvert_exporter": "python",
   "pygments_lexer": "ipython2",
   "version": "2.7.12"
  }
 },
 "nbformat": 4,
 "nbformat_minor": 0
}
