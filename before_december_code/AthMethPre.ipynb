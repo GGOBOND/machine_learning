{
 "cells": [
  {
   "cell_type": "code",
   "execution_count": 87,
   "metadata": {
    "collapsed": true
   },
   "outputs": [],
   "source": [
    "import itertools\n",
    "import pandas as pd\n",
    "import numpy as np"
   ]
  },
  {
   "cell_type": "code",
   "execution_count": 23,
   "metadata": {
    "collapsed": true
   },
   "outputs": [],
   "source": [
    "def read_fasta_file(path):\n",
    "    '''\n",
    "    used for load fasta data and transformd into numpy.array format\n",
    "    '''\n",
    "    fh=open(m6a_benchmark_dataset)\n",
    "    seq=[]\n",
    "    for line in fh:\n",
    "        if line.startswith('>'):\n",
    "            continue\n",
    "        else:\n",
    "            seq.append(line.replace('\\r\\n',''))\n",
    "    fh.close()\n",
    "    matrix_data=np.array([list(e) for e in seq])\n",
    "    return matrix_data"
   ]
  },
  {
   "cell_type": "code",
   "execution_count": 149,
   "metadata": {
    "collapsed": false
   },
   "outputs": [],
   "source": [
    "def AthMethPre_extract_one_line(data_line):\n",
    "    '''\n",
    "    extract features from one line, such as one m6A sample\n",
    "    '''\n",
    "    A=[0,0,0,1]\n",
    "    U=[0,0,1,0]\n",
    "    C=[0,1,0,0]\n",
    "    G=[1,0,0,0]\n",
    "    N=[0,0,0,0]\n",
    "    feature_representation={\"A\":A,\"U\":U,\"C\":C,\"G\":G,\"N\":N}\n",
    "    beginning=0\n",
    "    end=len(data_line)-1\n",
    "    one_line_feature=[]\n",
    "    alphabet='AUCG'\n",
    "    matrix_two=[\"\".join(e) for e in itertools.product(alphabet, repeat=2)] # AA AU AC AG UU UC ...\n",
    "    matrix_three=[\"\".join(e) for e in itertools.product(alphabet, repeat=3)]# AAA AAU AAC ...\n",
    "    matrix_four=[\"\".join(e) for e in itertools.product(alphabet, repeat=4)]# AAAA AAAU AAAC ...\n",
    "    feature_two=np.zeros(16)\n",
    "    feature_three=np.zeros(64)\n",
    "    feature_four=np.zeros(256)\n",
    "    for index,data in enumerate(data_line):\n",
    "        if index==beginning or index==end:\n",
    "            one_line_feature.extend(feature_representation[\"N\"])\n",
    "        elif data in feature_representation.keys():\n",
    "            one_line_feature.extend(feature_representation[data])\n",
    "        if \"\".join(data_line[index:(index+2)]) in matrix_two and index <= end-1:\n",
    "            feature_two[matrix_two.index(\"\".join(data_line[index:(index+2)]))]+=1\n",
    "        if \"\".join(data_line[index:(index+3)]) in matrix_three and index <= end-2:\n",
    "            feature_three[matrix_three.index(\"\".join(data_line[index:(index+3)]))]+=1\n",
    "        if \"\".join(data_line[index:(index+4)]) in matrix_four and index <=end-3:\n",
    "            feature_four[matrix_four.index(\"\".join(data_line[index:(index+4)]))]+=1\n",
    "    sum_two=np.sum(feature_two)\n",
    "    sum_three=np.sum(feature_three)\n",
    "    sum_four=np.sum(feature_four)\n",
    "    one_line_feature.extend(feature_two/sum_two)\n",
    "    one_line_feature.extend(feature_three/sum_three)\n",
    "    one_line_feature.extend(feature_four/sum_four)\n",
    "    return one_line_feature\n"
   ]
  },
  {
   "cell_type": "code",
   "execution_count": 150,
   "metadata": {
    "collapsed": false
   },
   "outputs": [],
   "source": [
    "def AthMethPre_feature_extraction(matrix_data):\n",
    "    final_feature_matrix=[AthMethPre_extract_one_line(e) for e in matrix_data]\n",
    "    return final_feature_matrix"
   ]
  },
  {
   "cell_type": "code",
   "execution_count": 151,
   "metadata": {
    "collapsed": false
   },
   "outputs": [],
   "source": [
    "\n",
    "m6a_benchmark_dataset='/home02/chenhuangrong/m6a_data.txt'\n",
    "matrix_data=read_fasta_file(m6a_benchmark_dataset)\n",
    "final_feature_matrix=AthMethPre_feature_extraction(matrix_data)\n",
    "pd.DataFrame(final_feature_matrix).to_csv('/home02/chenhuangrong/AthMethPre.csv',header=None,index=False)\n",
    "\n",
    "\n"
   ]
  }
 ],
 "metadata": {
  "kernelspec": {
   "display_name": "Python 2",
   "language": "python",
   "name": "python2"
  },
  "language_info": {
   "codemirror_mode": {
    "name": "ipython",
    "version": 2
   },
   "file_extension": ".py",
   "mimetype": "text/x-python",
   "name": "python",
   "nbconvert_exporter": "python",
   "pygments_lexer": "ipython2",
   "version": "2.7.12"
  }
 },
 "nbformat": 4,
 "nbformat_minor": 0
}
