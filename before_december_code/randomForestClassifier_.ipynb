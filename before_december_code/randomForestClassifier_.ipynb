{
 "cells": [
  {
   "cell_type": "code",
   "execution_count": 15,
   "metadata": {
    "collapsed": true
   },
   "outputs": [],
   "source": [
    "from sklearn import svm\n",
    "\n",
    "import numpy as np\n",
    "import pandas as pd\n",
    "import math\n",
    "from sklearn.model_selection import *\n",
    "import sklearn.ensemble\n",
    "from sklearn import metrics\n",
    "import sys\n",
    "from sklearn.model_selection import GridSearchCV\n",
    "import easy_excel\n",
    "from sklearn.ensemble import RandomForestClassifier"
   ]
  },
  {
   "cell_type": "code",
   "execution_count": 108,
   "metadata": {
    "collapsed": false
   },
   "outputs": [
    {
     "name": "stdout",
     "output_type": "stream",
     "text": [
      "{'n_estimators': 160}\n",
      "0.814845376156\n",
      "[[['randomForestClassifiern_estimators:160', 0.74866105585309872, 0.7531152647975078, 0.7398622800306044, 0.7398622800306044, 0.7574598316755929, 0.7486093494574471, 0.74642994982632183, 0.74642994982632183, 0.497399133415385, '0.7486', 967.0, 340.0, 317.0, 990.0, 1307.0, 1307.0]]]\n"
     ]
    }
   ],
   "source": [
    "\n",
    "def performance(labelArr, predictArr):\n",
    "    #labelArr[i] is actual value,predictArr[i] is predict value\n",
    "    TP = 0.; TN = 0.; FP = 0.; FN = 0.\n",
    "    for i in range(len(labelArr)):\n",
    "        if labelArr[i] == 1 and predictArr[i] == 1:\n",
    "            TP += 1.\n",
    "        if labelArr[i] == 1 and predictArr[i] == 0:\n",
    "            FN += 1.\n",
    "        if labelArr[i] == 0 and predictArr[i] == 1:\n",
    "            FP += 1.\n",
    "        if labelArr[i] == 0 and predictArr[i] == 0:\n",
    "            TN += 1.\n",
    "    SN = TP/(TP + FN) #Sensitivity = TP/P  and P = TP + FN\n",
    "    SP = TN/(FP + TN) #Specificity = TN/N  and N = TN + FP\n",
    "    precision=TP/(TP+FP)\n",
    "    recall=TP/(TP+FN)\n",
    "    GM=math.sqrt(recall*SP)\n",
    "    #MCC = (TP*TN-FP*FN)/math.sqrt((TP+FP)*(TP+FN)*(TN+FP)*(TN+FN))\n",
    "    return precision,recall,SN,SP,GM,TP,TN,FP,FN\n",
    "def svm_crossvalidation():\n",
    "    if __name__=='__main__':\n",
    "        datapath ='/home01/chenhuangrong/merge/p1_n1_H_join/p1_RPP.csv'\n",
    "        train_data = pd.read_csv(datapath, header=None, index_col=None)\n",
    "        X = np.array(train_data)\n",
    "        Y = list(map(lambda x: 1, xrange(len(train_data) / 2)))\n",
    "        Y2 = list(map(lambda x: 0, xrange(len(train_data) / 2)))\n",
    "        Y.extend(Y2)\n",
    "        Y = np.array(Y)\n",
    "        parameters = {'n_estimators':range(10,200,10)}\n",
    "#         parameters = {'max_depth':range(20,50,2), 'min_samples_split':range(10,60,20)}\n",
    "        #parameters = {'kernel': ['rbf'], 'C':np.logspace(-5,15,20,base=2), 'gamma': np.logspace(-15,5,20,base=2)}\n",
    "        clf = GridSearchCV(RandomForestClassifier(), parameters,cv=10,scoring='roc_auc')\n",
    "        clf.fit(X, Y)\n",
    "        print clf.best_params_\n",
    "        print clf.best_score_\n",
    "#         max_depth=clf.best_params_['max_depth']\n",
    "#         min_samples_split=clf.best_params_['min_samples_split']\n",
    "        n_estimators=clf.best_params_['n_estimators']\n",
    "        y_predict=cross_val_predict(RandomForestClassifier(n_estimators=n_estimators),X,Y,cv=10,n_jobs=-1)\n",
    "        ROC_AUC_area=\"%0.4f\"%cross_val_score(RandomForestClassifier(n_estimators=n_estimators),X,Y,cv=10,n_jobs=-1).mean()\n",
    "        ACC=metrics.accuracy_score(Y,y_predict)\n",
    "        precision, recall, SN, SP, GM, TP, TN, FP, FN = performance(Y, y_predict)\n",
    "        F1_Score=metrics.f1_score(Y, y_predict)\n",
    "        F_measure=F1_Score\n",
    "        MCC=metrics.matthews_corrcoef(Y, y_predict)\n",
    "        pos=TP+FN\n",
    "        neg=FP+TN\n",
    "        savedata=[[['randomForestClassifier'+\"n_estimators:\"+str(n_estimators),ACC,precision, recall,SN, SP, GM,F_measure,F1_Score,MCC,ROC_AUC_area,TP,FN,FP,TN,pos,neg]]]\n",
    "        print savedata\n",
    "        easy_excel.save(\"crossvalidation\",[str(X.shape[1])],savedata,'/home01/chenhuangrong/merge/p1_n1_H_join/random_p1_RPP.xls')\n",
    "\n",
    "        # savafile = 'svm_crossvalidation_parameter.txt'\n",
    "        # f = open(savafile, 'w+')\n",
    "        # f.write(\"MCC:%f\"%metrics.matthews_corrcoef(Y,y_predict)+'\\n')\n",
    "        # f.write(\"ACC:%f\"%metrics.accuracy_score(Y,y_predict)+'\\n')\n",
    "        # f.write(\"ROC_AUC_AREA:%f\"%ROC_AUC_area+'\\n')\n",
    "        # f.write(\"SN:%f,SP:%f,TP:%d:,TN:%d,FP:%d,FN:%d\"%performance(Y,y_predict)+'\\n')\n",
    "        # f.write(\"ROC_AUC:%f\"%metrics.roc_auc_score(Y,y_predict)+'\\n')\n",
    "        # f.write(\"C:%f,gamma:%f\"%(C,gamma)+'\\n')\n",
    "        # f.write(\"F1-score:%f\"%metrics.f1_score(Y,y_predict)+'\\n')\n",
    "        # f.write(\"F-measure:%f\"%metrics.f1_score(Y,y_predict)+'\\n')\n",
    "        # f.close()\n",
    "svm_crossvalidation()\n"
   ]
  },
  {
   "cell_type": "code",
   "execution_count": null,
   "metadata": {
    "collapsed": true
   },
   "outputs": [],
   "source": []
  },
  {
   "cell_type": "code",
   "execution_count": 96,
   "metadata": {
    "collapsed": false
   },
   "outputs": [
    {
     "name": "stdout",
     "output_type": "stream",
     "text": [
      "RandomForestClassifier(bootstrap=True, class_weight=None, criterion='gini',\n",
      "            max_depth=6, max_features='auto', max_leaf_nodes=None,\n",
      "            min_impurity_split=1e-07, min_samples_leaf=130,\n",
      "            min_samples_split=5, min_weight_fraction_leaf=0.0,\n",
      "            n_estimators=420, n_jobs=1, oob_score=True, random_state=10,\n",
      "            verbose=0, warm_start=False)\n",
      "训练集袋外分数:  0.51724137931\n",
      "训练集AUC Score: 0.500000\n",
      "训练集准确率:  0.51724137931\n",
      "训练集查准率:  0.51724137931\n",
      "训练集召回率:  1.0\n",
      "训练集F1值:  0.681818181818\n",
      "             precision    recall  f1-score   support\n",
      "\n",
      "          0       0.00      0.00      0.00       126\n",
      "          1       0.52      1.00      0.68       135\n",
      "\n",
      "avg / total       0.27      0.52      0.35       261\n",
      "\n",
      "[[  0 126]\n",
      " [  0 135]]\n"
     ]
    },
    {
     "name": "stderr",
     "output_type": "stream",
     "text": [
      "/usr/local/lib/python2.7/dist-packages/sklearn/metrics/classification.py:1113: UndefinedMetricWarning: Precision and F-score are ill-defined and being set to 0.0 in labels with no predicted samples.\n",
      "  'precision', 'predicted', average, warn_for)\n"
     ]
    },
    {
     "name": "stdout",
     "output_type": "stream",
     "text": [
      "测试集准确率:  0.498087547811\n",
      "测试集查准率:  0.498087547811\n",
      "测试集召回率:  1.0\n",
      "测试集F1值:  0.664964539007\n",
      "             precision    recall  f1-score   support\n",
      "\n",
      "          0       0.00      0.00      0.00      1181\n",
      "          1       0.50      1.00      0.66      1172\n",
      "\n",
      "avg / total       0.25      0.50      0.33      2353\n",
      "\n",
      "[[   0 1181]\n",
      " [   0 1172]]\n"
     ]
    }
   ],
   "source": [
    "datapath ='/home01/chenhuangrong/RFH_phisicalchemical_other/p1_n1_H_join/Rphisicalchemical_p1_n1_H_join.csv'\n",
    "train_data = pd.read_csv(datapath, header=None, index_col=None)\n",
    "X = np.array(train_data)\n",
    "Y = list(map(lambda x: 1, xrange(len(train_data) / 2)))\n",
    "Y2 = list(map(lambda x: 0, xrange(len(train_data) / 2)))\n",
    "Y.extend(Y2)\n",
    "Y = np.array(Y)\n",
    "x_train, x_test, y_train, y_test = train_test_split(X, Y, train_size=0.1,random_state=10)\n",
    "rf = RandomForestClassifier(oob_score=True, random_state=0)\n",
    "rf.fit(x_train, y_train)\n",
    "print rf\n",
    "from sklearn.metrics import accuracy_score, precision_score, recall_score, f1_score, roc_auc_score\n",
    "from sklearn import metrics\n",
    "y_train_pred = rf.predict(x_train)\n",
    "y_train_predprob = rf.predict_proba(x_train)[:,1]\n",
    "print u'训练集袋外分数: ', rf.oob_score_\n",
    "print \"训练集AUC Score: %f\" % metrics.roc_auc_score(y_train, y_train_predprob)\n",
    "print u'训练集准确率: ', accuracy_score(y_train, y_train_pred)\n",
    "print u'训练集查准率: ', precision_score(y_train, y_train_pred)\n",
    "print u'训练集召回率: ', recall_score(y_train, y_train_pred)\n",
    "print u'训练集F1值: ', f1_score(y_train, y_train_pred)\n",
    "print(metrics.classification_report(y_train, y_train_pred))\n",
    "print(metrics.confusion_matrix(y_train, y_train_pred))\n",
    "y_test_pred = rf.predict(x_test)\n",
    "y_test_predprob = rf.predict_proba(x_test)[:,1]\n",
    "print u'测试集准确率: ', accuracy_score(y_test, y_test_pred)\n",
    "print u'测试集查准率: ', precision_score(y_test, y_test_pred)\n",
    "print u'测试集召回率: ', recall_score(y_test, y_test_pred)\n",
    "print u'测试集F1值: ', f1_score(y_test, y_test_pred)\n",
    "print(metrics.classification_report(y_test, y_test_pred))\n",
    "print(metrics.confusion_matrix(y_test, y_test_pred))"
   ]
  },
  {
   "cell_type": "code",
   "execution_count": 112,
   "metadata": {
    "collapsed": false
   },
   "outputs": [
    {
     "name": "stdout",
     "output_type": "stream",
     "text": [
      "{'rank_test_score': array([ 6, 12, 20, 15, 16, 29,  1,  2, 10,  7, 14, 26,  8,  8, 11, 13, 19,\n",
      "       27,  3,  3,  3, 18, 17, 30, 21, 21, 21, 21, 21, 28], dtype=int32), 'std_score_time': array([ 0.07012594,  0.08230116,  0.1159338 ,  0.09874819,  0.05966545,\n",
      "        0.05290366,  0.07467623,  0.07570851,  0.11859488,  0.06485003,\n",
      "        0.17946886,  0.04967699,  0.11948111,  0.16650474,  0.15593188,\n",
      "        0.07388363,  0.06560802,  0.06552192,  0.03134922,  0.11241518,\n",
      "        0.06511331,  0.1052271 ,  0.05263414,  0.07671741,  0.04478254,\n",
      "        0.07920863,  0.10605121,  0.15978561,  0.05288905,  0.12063068]), 'split2_test_score': array([ 0.89333333,  0.89777778,  0.87555556,  0.88296296,  0.8962963 ,\n",
      "        0.8562963 ,  0.89037037,  0.89481481,  0.86814815,  0.88148148,\n",
      "        0.88888889,  0.84888889,  0.86814815,  0.86814815,  0.88      ,\n",
      "        0.88      ,  0.88740741,  0.85925926,  0.88296296,  0.88296296,\n",
      "        0.88296296,  0.88      ,  0.88      ,  0.84296296,  0.84888889,\n",
      "        0.84888889,  0.84888889,  0.84888889,  0.84888889,  0.81333333]), 'param_min_samples_leaf': masked_array(data = [10 10 10 10 10 10 20 20 20 20 20 20 30 30 30 30 30 30 40 40 40 40 40 40 50\n",
      " 50 50 50 50 50],\n",
      "             mask = [False False False False False False False False False False False False\n",
      " False False False False False False False False False False False False\n",
      " False False False False False False],\n",
      "       fill_value = ?)\n",
      ", 'mean_fit_time': array([ 3.16719503,  3.09934664,  2.79343162,  2.81403871,  3.01368675,\n",
      "        2.76813078,  3.18645215,  3.14723821,  3.13882642,  2.99410372,\n",
      "        2.87932878,  2.74894204,  2.9578054 ,  3.17416148,  2.55434136,\n",
      "        2.90729823,  3.03704281,  2.90896287,  2.94118743,  2.68773079,\n",
      "        3.11109662,  3.11280789,  2.86127253,  2.8948318 ,  3.08329706,\n",
      "        2.93021197,  3.02244678,  2.93731399,  2.81211143,  2.73615351]), 'split3_train_score': array([ 0.99101577,  0.9802897 ,  0.95242024,  0.93610194,  0.9313348 ,\n",
      "        0.92775944,  0.97616428,  0.97130546,  0.94306931,  0.93280161,\n",
      "        0.92445911,  0.92354235,  0.94297763,  0.94297763,  0.93078475,\n",
      "        0.92051705,  0.91006601,  0.91244958,  0.91217455,  0.91217455,\n",
      "        0.91217455,  0.90768243,  0.90484048,  0.9096993 ,  0.89778144,\n",
      "        0.89778144,  0.89778144,  0.89778144,  0.89778144,  0.90089842]), 'param_min_samples_split': masked_array(data = [30 50 70 90 110 130 30 50 70 90 110 130 30 50 70 90 110 130 30 50 70 90\n",
      " 110 130 30 50 70 90 110 130],\n",
      "             mask = [False False False False False False False False False False False False\n",
      " False False False False False False False False False False False False\n",
      " False False False False False False],\n",
      "       fill_value = ?)\n",
      ", 'std_test_score': array([ 0.11081385,  0.11188631,  0.11380274,  0.11960052,  0.11785816,\n",
      "        0.10471397,  0.10158758,  0.10783357,  0.11091201,  0.11686381,\n",
      "        0.1165288 ,  0.10383594,  0.1057016 ,  0.1057016 ,  0.11229705,\n",
      "        0.11579927,  0.11543747,  0.10655376,  0.10350986,  0.10350986,\n",
      "        0.10350986,  0.11430103,  0.10918044,  0.09753592,  0.10099266,\n",
      "        0.10099266,  0.10099266,  0.10099266,  0.10099266,  0.09452003]), 'params': ({'min_samples_split': 30, 'min_samples_leaf': 10}, {'min_samples_split': 50, 'min_samples_leaf': 10}, {'min_samples_split': 70, 'min_samples_leaf': 10}, {'min_samples_split': 90, 'min_samples_leaf': 10}, {'min_samples_split': 110, 'min_samples_leaf': 10}, {'min_samples_split': 130, 'min_samples_leaf': 10}, {'min_samples_split': 30, 'min_samples_leaf': 20}, {'min_samples_split': 50, 'min_samples_leaf': 20}, {'min_samples_split': 70, 'min_samples_leaf': 20}, {'min_samples_split': 90, 'min_samples_leaf': 20}, {'min_samples_split': 110, 'min_samples_leaf': 20}, {'min_samples_split': 130, 'min_samples_leaf': 20}, {'min_samples_split': 30, 'min_samples_leaf': 30}, {'min_samples_split': 50, 'min_samples_leaf': 30}, {'min_samples_split': 70, 'min_samples_leaf': 30}, {'min_samples_split': 90, 'min_samples_leaf': 30}, {'min_samples_split': 110, 'min_samples_leaf': 30}, {'min_samples_split': 130, 'min_samples_leaf': 30}, {'min_samples_split': 30, 'min_samples_leaf': 40}, {'min_samples_split': 50, 'min_samples_leaf': 40}, {'min_samples_split': 70, 'min_samples_leaf': 40}, {'min_samples_split': 90, 'min_samples_leaf': 40}, {'min_samples_split': 110, 'min_samples_leaf': 40}, {'min_samples_split': 130, 'min_samples_leaf': 40}, {'min_samples_split': 30, 'min_samples_leaf': 50}, {'min_samples_split': 50, 'min_samples_leaf': 50}, {'min_samples_split': 70, 'min_samples_leaf': 50}, {'min_samples_split': 90, 'min_samples_leaf': 50}, {'min_samples_split': 110, 'min_samples_leaf': 50}, {'min_samples_split': 130, 'min_samples_leaf': 50}), 'std_fit_time': array([ 0.4466871 ,  0.32510026,  0.18762693,  0.64283008,  0.18682036,\n",
      "        0.26993156,  0.28105764,  0.35705309,  0.25397474,  0.35863756,\n",
      "        0.18907458,  0.1274738 ,  0.39899804,  0.28625694,  0.53918034,\n",
      "        0.51658646,  0.35494972,  0.20478689,  0.51116861,  0.35658765,\n",
      "        0.10128345,  0.24791973,  0.37087345,  0.17701601,  0.28304382,\n",
      "        0.26909361,  0.22521641,  0.33062128,  0.21013478,  0.29228449]), 'std_train_score': array([ 0.00474635,  0.00777906,  0.01179372,  0.01076286,  0.00830097,\n",
      "        0.00816326,  0.00659863,  0.00900888,  0.01057599,  0.00925574,\n",
      "        0.00822244,  0.0096372 ,  0.00761846,  0.00761846,  0.01136039,\n",
      "        0.01029975,  0.00921837,  0.0090854 ,  0.01035903,  0.01035903,\n",
      "        0.01035903,  0.00959012,  0.01049565,  0.01051611,  0.00772968,\n",
      "        0.00772968,  0.00772968,  0.00772968,  0.00772968,  0.00770878]), 'split4_test_score': array([ 0.86666667,  0.85481481,  0.8562963 ,  0.87259259,  0.84592593,\n",
      "        0.83851852,  0.88296296,  0.85925926,  0.87851852,  0.87703704,\n",
      "        0.86222222,  0.85777778,  0.87555556,  0.87555556,  0.87851852,\n",
      "        0.88      ,  0.85777778,  0.85333333,  0.86962963,  0.86962963,\n",
      "        0.86962963,  0.87259259,  0.86074074,  0.83851852,  0.8637037 ,\n",
      "        0.8637037 ,  0.8637037 ,  0.8637037 ,  0.8637037 ,  0.86666667]), 'split1_train_score': array([ 0.98414008,  0.96314631,  0.93536854,  0.91611661,  0.90869087,\n",
      "        0.90355702,  0.9639714 ,  0.95315365,  0.92840117,  0.91116612,\n",
      "        0.90520719,  0.89933993,  0.93069307,  0.93069307,  0.91657499,\n",
      "        0.90575724,  0.90044004,  0.89558122,  0.91171617,  0.91171617,\n",
      "        0.91171617,  0.9063073 ,  0.90465713,  0.90254859,  0.90108177,\n",
      "        0.90108177,  0.90108177,  0.90108177,  0.90108177,  0.90355702]), 'split2_train_score': array([ 0.99312431,  0.97607261,  0.96241291,  0.93995233,  0.92665933,\n",
      "        0.9203337 ,  0.98120645,  0.97258893,  0.95535387,  0.93500183,\n",
      "        0.92427576,  0.91877521,  0.95425376,  0.95425376,  0.95196186,\n",
      "        0.93747708,  0.92354235,  0.91813348,  0.93766043,  0.93766043,\n",
      "        0.93766043,  0.92858453,  0.9226256 ,  0.91510818,  0.90383205,\n",
      "        0.90383205,  0.90383205,  0.90383205,  0.90383205,  0.893381  ]), 'split4_train_score': array([ 0.99303264,  0.9779978 ,  0.95892923,  0.94169417,  0.92592593,\n",
      "        0.91171617,  0.97222222,  0.96562156,  0.94646131,  0.92317565,\n",
      "        0.9070407 ,  0.90044004,  0.94325266,  0.94325266,  0.93105977,\n",
      "        0.91547488,  0.89741474,  0.89622296,  0.90924092,  0.90924092,\n",
      "        0.90924092,  0.9006234 ,  0.89200587,  0.8876971 ,  0.88393839,\n",
      "        0.88393839,  0.88393839,  0.88393839,  0.88393839,  0.88632197]), 'mean_score_time': array([ 0.57238073,  0.59299293,  0.47142453,  0.53098407,  0.69361663,\n",
      "        0.62161026,  0.5951736 ,  0.55103598,  0.54227123,  0.64846706,\n",
      "        0.62375355,  0.62069221,  0.55740499,  0.63953309,  0.50308948,\n",
      "        0.65081091,  0.64091735,  0.59269538,  0.5931726 ,  0.53621635,\n",
      "        0.65042582,  0.61082082,  0.66815629,  0.69688396,  0.60114803,\n",
      "        0.60119348,  0.56775475,  0.6940918 ,  0.58440595,  0.66439481]), 'split0_train_score': array([ 0.98175926,  0.96185185,  0.93416667,  0.91925926,  0.91537037,\n",
      "        0.91388889,  0.96481481,  0.95111111,  0.92824074,  0.91592593,\n",
      "        0.91314815,  0.91027778,  0.93888889,  0.93888889,  0.92944444,\n",
      "        0.91842593,  0.91138889,  0.91064815,  0.91824074,  0.91824074,\n",
      "        0.91824074,  0.91435185,  0.91574074,  0.91648148,  0.90564815,\n",
      "        0.90564815,  0.90564815,  0.90564815,  0.90564815,  0.90805556]), 'mean_train_score': array([ 0.98861441,  0.97187165,  0.94865952,  0.93062486,  0.92159626,\n",
      "        0.91545105,  0.97167583,  0.96275614,  0.94030528,  0.92361423,\n",
      "        0.91482618,  0.91047506,  0.9420132 ,  0.9420132 ,  0.93196516,\n",
      "        0.91953044,  0.90857041,  0.90660708,  0.91780656,  0.91780656,\n",
      "        0.91780656,  0.9115099 ,  0.90797396,  0.90630693,  0.89845636,\n",
      "        0.89845636,  0.89845636,  0.89845636,  0.89845636,  0.89844279]), 'split0_test_score': array([ 0.61538462,  0.62535613,  0.63105413,  0.63105413,  0.63390313,\n",
      "        0.64245014,  0.66951567,  0.63960114,  0.63390313,  0.63105413,\n",
      "        0.63675214,  0.64387464,  0.64387464,  0.64387464,  0.63532764,\n",
      "        0.63105413,  0.63105413,  0.64814815,  0.63675214,  0.63675214,\n",
      "        0.63675214,  0.61823362,  0.62535613,  0.62535613,  0.62535613,\n",
      "        0.62535613,  0.62535613,  0.62535613,  0.62535613,  0.62535613]), 'mean_test_score': array([ 0.75424654,  0.75007303,  0.74178494,  0.74945913,  0.74826669,\n",
      "        0.73494908,  0.76907577,  0.75916407,  0.75062798,  0.75300106,\n",
      "        0.75002587,  0.74114157,  0.7514722 ,  0.7514722 ,  0.75032693,\n",
      "        0.75004945,  0.74562203,  0.73964808,  0.75829038,  0.75829038,\n",
      "        0.75829038,  0.74715089,  0.74771174,  0.73383917,  0.74121819,\n",
      "        0.74121819,  0.74121819,  0.74121819,  0.74121819,  0.73797142]), 'split3_test_score': array([ 0.7437037 ,  0.7437037 ,  0.75259259,  0.76888889,  0.77481481,\n",
      "        0.74814815,  0.75259259,  0.76888889,  0.75703704,  0.77037037,\n",
      "        0.76592593,  0.75407407,  0.7437037 ,  0.7437037 ,  0.73777778,\n",
      "        0.74962963,  0.75259259,  0.74518519,  0.74962963,  0.74962963,\n",
      "        0.74962963,  0.7437037 ,  0.74666667,  0.7437037 ,  0.73333333,\n",
      "        0.73333333,  0.73333333,  0.73333333,  0.73333333,  0.74666667]), 'split1_test_score': array([ 0.65481481,  0.63111111,  0.59555556,  0.59407407,  0.59259259,\n",
      "        0.59111111,  0.65185185,  0.63555556,  0.61777778,  0.60740741,\n",
      "        0.59851852,  0.60296296,  0.62814815,  0.62814815,  0.62222222,\n",
      "        0.61185185,  0.60148148,  0.59407407,  0.65481481,  0.65481481,\n",
      "        0.65481481,  0.6237037 ,  0.62814815,  0.62074074,  0.63703704,\n",
      "        0.63703704,  0.63703704,  0.63703704,  0.63703704,  0.64      ])} {'min_samples_split': 30, 'min_samples_leaf': 20} 0.769075766011\n"
     ]
    }
   ],
   "source": [
    "from sklearn.model_selection import GridSearchCV\n",
    "datapath ='/home01/chenhuangrong/merge/p1_n1_H_join/p1_RPP.csv'\n",
    "train_data = pd.read_csv(datapath, header=None, index_col=None)\n",
    "X = np.array(train_data)\n",
    "Y = list(map(lambda x: 1, xrange(len(train_data) / 2)))\n",
    "Y2 = list(map(lambda x: 0, xrange(len(train_data) / 2)))\n",
    "Y.extend(Y2)\n",
    "Y = np.array(Y)\n",
    "x_train, x_test, y_train, y_test = train_test_split(X, Y, train_size=0.1,random_state=10)\n",
    "param_test1 = {'min_samples_split':range(30,150,20), 'min_samples_leaf':range(10,60,10)}\n",
    "gsearch1 = GridSearchCV(estimator=RandomForestClassifier(n_estimators=180, max_features='sqrt',min_samples_split=30,max_depth=3, min_samples_leaf=20,oob_score=True, random_state=10),param_grid=param_test1, scoring='roc_auc', cv=5)\n",
    "gsearch1.fit(x_train, y_train)\n",
    "print gsearch1.cv_results_, gsearch1.best_params_, gsearch1.best_score_"
   ]
  },
  {
   "cell_type": "code",
   "execution_count": 3,
   "metadata": {
    "collapsed": false
   },
   "outputs": [
    {
     "name": "stdout",
     "output_type": "stream",
     "text": [
      "/home01/chenhuangrong\n"
     ]
    }
   ],
   "source": [
    "\n",
    "import os\n",
    "os.chdir(\"/home01/chenhuangrong/\")\n",
    "import easy_excel\n",
    "import pandas as pd\n",
    "import mlens\n",
    "print os.getcwd()\n"
   ]
  },
  {
   "cell_type": "code",
   "execution_count": 104,
   "metadata": {
    "collapsed": false
   },
   "outputs": [
    {
     "data": {
      "text/plain": [
       "True"
      ]
     },
     "execution_count": 104,
     "metadata": {},
     "output_type": "execute_result"
    }
   ],
   "source": [
    "easy_excel.save(\"rossvalidation\",[str(X.shape[1]),str(X.shape[1]),str(X.shape[1])],[[['randomForestClassifiermax_depth20min_samples_split10', 0.7517214996174445, 0.7542503863987635, 0.7467482785003825, 0.7467482785003825, 0.7566947207345065, 0.7517050485787763, 0.75048058439061893, 0.75048058439061893, 0.50346790432201705, '0.7517', 976.0, 331.0, 318.0, 989.0, 1307.0, 1307.0],['randomForestClassifiermax_depth20min_samples_split10', 0.7517214996174445, 0.7542503863987635, 0.7467482785003825, 0.7467482785003825, 0.7566947207345065, 0.7517050485787763, 0.75048058439061893, 0.75048058439061893, 0.50346790432201705, '0.7517', 976.0, 331.0, 318.0, 989.0, 1307.0, 1307.0],['randomForestClassifiermax_depth20min_samples_split10', 0.7517214996174445, 0.7542503863987635, 0.7467482785003825, 0.7467482785003825, 0.7566947207345065, 0.7517050485787763, 0.75048058439061893, 0.75048058439061893, 0.50346790432201705, '0.7517', 976.0, 331.0, 318.0, 989.0, 1307.0, 1307.0]]],'/home01/chenhuangrong/RFH_phisicalchemical_other/p1_n1_H_join/random.xls')"
   ]
  },
  {
   "cell_type": "code",
   "execution_count": null,
   "metadata": {
    "collapsed": true
   },
   "outputs": [],
   "source": [
    "from sklearn import svm\n",
    "\n",
    "import numpy as np\n",
    "import pandas as pd\n",
    "import math\n",
    "import easy_excel\n",
    "from sklearn.model_selection import *\n",
    "import sklearn.ensemble\n",
    "from sklearn import metrics\n",
    "import sys\n",
    "from sklearn.model_selection import GridSearchCV\n",
    "def performance(labelArr, predictArr):\n",
    "    #labelArr[i] is actual value,predictArr[i] is predict value\n",
    "    TP = 0.; TN = 0.; FP = 0.; FN = 0.\n",
    "    for i in range(len(labelArr)):\n",
    "        if labelArr[i] == 1 and predictArr[i] == 1:\n",
    "            TP += 1.\n",
    "        if labelArr[i] == 1 and predictArr[i] == 0:\n",
    "            FN += 1.\n",
    "        if labelArr[i] == 0 and predictArr[i] == 1:\n",
    "            FP += 1.\n",
    "        if labelArr[i] == 0 and predictArr[i] == 0:\n",
    "            TN += 1.\n",
    "    SN = TP/(TP + FN) #Sensitivity = TP/P  and P = TP + FN\n",
    "    SP = TN/(FP + TN) #Specificity = TN/N  and N = TN + FP\n",
    "    precision=TP/(TP+FP)\n",
    "    recall=TP/(TP+FN)\n",
    "    GM=math.sqrt(recall*SP)\n",
    "    #MCC = (TP*TN-FP*FN)/math.sqrt((TP+FP)*(TP+FN)*(TN+FP)*(TN+FN))\n",
    "    return precision,recall,SN,SP,GM,TP,TN,FP,FN\n",
    "def svm_crossvalidation():\n",
    "    if __name__=='__main__':\n",
    "        datapath ='/home01/chenhuangrong/merge/p1_n1_H_join/BPbayes_PSTNP_p1_RPP.csv'\n",
    "        train_data = pd.read_csv(datapath, header=None, index_col=None)\n",
    "        X = np.array(train_data)\n",
    "        Y = list(map(lambda x: 1, xrange(len(train_data) / 2)))\n",
    "        Y2 = list(map(lambda x: 0, xrange(len(train_data) / 2)))\n",
    "        Y.extend(Y2)\n",
    "        Y = np.array(Y)\n",
    "        svc = svm.SVC()\n",
    "        #parameters = {'kernel':['rbf'], 'C': np.linspace(32750,32799,100), 'gamma': np.linspace(0.00001,0.00009,20)}\n",
    "        parameters = {'kernel': ['rbf'], 'C':np.logspace(-5,15,20,base=2), 'gamma': np.logspace(-30,-10,20,base=2)}\n",
    "        clf = GridSearchCV(svc, parameters, cv=10, n_jobs=-1, scoring='roc_auc')\n",
    "        clf.fit(X, Y)\n",
    "        C=clf.best_params_['C']\n",
    "        print clf.best_score_\n",
    "        gamma=clf.best_params_['gamma']\n",
    "        y_predict=cross_val_predict(svm.SVC(kernel='rbf',C=C,gamma=gamma),X,Y,cv=10,n_jobs=-1)\n",
    "        ROC_AUC_area=\"%0.4f\"%cross_val_score(svm.SVC(kernel='rbf',C=C,gamma=gamma),X,Y,cv=10,n_jobs=-1).mean()\n",
    "        ACC=metrics.accuracy_score(Y,y_predict)\n",
    "        precision, recall, SN, SP, GM, TP, TN, FP, FN = performance(Y, y_predict)\n",
    "        F1_Score=metrics.f1_score(Y, y_predict)\n",
    "        F_measure=F1_Score\n",
    "        MCC=metrics.matthews_corrcoef(Y, y_predict)\n",
    "        pos=TP+FN\n",
    "        neg=FP+TN\n",
    "        savedata=[[['svm'+\"C:\"+str(C)+\"gamma:\"+str(gamma),ACC,precision, recall,SN, SP, GM,F_measure,F1_Score,MCC,ROC_AUC_area,TP,FN,FP,TN,pos,neg]]]\n",
    "        print savedata\n",
    "        easy_excel.save(\"svm_crossvalidation\",[str(X.shape[1])],savedata,'/home01/chenhuangrong/merge/p1_n1_H_join/test2.xls')\n",
    "\n",
    "        # savafile = 'svm_crossvalidation_parameter.txt'\n",
    "        # f = open(savafile, 'w+')\n",
    "        # f.write(\"MCC:%f\"%metrics.matthews_corrcoef(Y,y_predict)+'\\n')\n",
    "        # f.write(\"ACC:%f\"%metrics.accuracy_score(Y,y_predict)+'\\n')\n",
    "        # f.write(\"ROC_AUC_AREA:%f\"%ROC_AUC_area+'\\n')\n",
    "        # f.write(\"SN:%f,SP:%f,TP:%d:,TN:%d,FP:%d,FN:%d\"%performance(Y,y_predict)+'\\n')\n",
    "        # f.write(\"ROC_AUC:%f\"%metrics.roc_auc_score(Y,y_predict)+'\\n')\n",
    "        # f.write(\"C:%f,gamma:%f\"%(C,gamma)+'\\n')\n",
    "        # f.write(\"F1-score:%f\"%metrics.f1_score(Y,y_predict)+'\\n')\n",
    "        # f.write(\"F-measure:%f\"%metrics.f1_score(Y,y_predict)+'\\n')\n",
    "        # f.close()\n",
    "svm_crossvalidation()"
   ]
  }
 ],
 "metadata": {
  "kernelspec": {
   "display_name": "Python 2",
   "language": "python",
   "name": "python2"
  },
  "language_info": {
   "codemirror_mode": {
    "name": "ipython",
    "version": 2
   },
   "file_extension": ".py",
   "mimetype": "text/x-python",
   "name": "python",
   "nbconvert_exporter": "python",
   "pygments_lexer": "ipython2",
   "version": "2.7.12"
  }
 },
 "nbformat": 4,
 "nbformat_minor": 2
}
