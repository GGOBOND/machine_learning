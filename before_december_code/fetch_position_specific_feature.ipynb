{
 "cells": [
  {
   "cell_type": "code",
   "execution_count": 2,
   "metadata": {
    "collapsed": false
   },
   "outputs": [
    {
     "name": "stdout",
     "output_type": "stream",
     "text": [
      "153\n"
     ]
    }
   ],
   "source": [
    "from __future__ import division\n",
    "import sys\n",
    "import numpy as np\n",
    "import pandas as pd\n",
    "def convert():\n",
    "    \"\"\"RFH feature\"\"\"\n",
    "    dataPath= \"/home01/chenhuangrong/ROC/m6a_data.txt\"\n",
    "    lines=open(dataPath).readlines()\n",
    "    outputPath=\"/home01/chenhuangrong/ROC/position_specific.csv\"\n",
    "    classifier_type='U'#sys.argv[3]\n",
    "    finally_text = open(outputPath, 'w')\n",
    "    finnaly_lines=\"\"\n",
    "    for line in lines:\n",
    "        if line.strip()==\"\":continue\n",
    "        if line.strip()[0] in ['A','G','C',classifier_type]:\n",
    "            position_mark=0\n",
    "            count_AGCT=[0,0,0,0]\n",
    "            temp = \"\"\n",
    "            for x in list(line.strip()):\n",
    "                if x==\"A\" or x==\"G\":temp+=\"1,\"\n",
    "                else:temp+=\"0,\"\n",
    "                if x==\"A\" or x==classifier_type:temp+=\"1,\"\n",
    "                else:temp+=\"0,\"\n",
    "                if x == \"A\" or x == \"C\":temp+=\"1,\"\n",
    "                else:temp+=\"0,\"\n",
    "\n",
    "            finnaly_lines+=((temp[:len(temp)-1])+'\\n')\n",
    "            #finally_text.write(temp+'\\n')\n",
    "    finally_text.writelines(finnaly_lines)\n",
    "    finally_text.close()\n",
    "    data=pd.read_csv(\"/home01/chenhuangrong/ROC/position_specific.csv\",header=None)\n",
    "    print len(data.values[0])\n",
    "convert()"
   ]
  }
 ],
 "metadata": {
  "kernelspec": {
   "display_name": "Python 2",
   "language": "python",
   "name": "python2"
  },
  "language_info": {
   "codemirror_mode": {
    "name": "ipython",
    "version": 2
   },
   "file_extension": ".py",
   "mimetype": "text/x-python",
   "name": "python",
   "nbconvert_exporter": "python",
   "pygments_lexer": "ipython2",
   "version": "2.7.12"
  }
 },
 "nbformat": 4,
 "nbformat_minor": 0
}
