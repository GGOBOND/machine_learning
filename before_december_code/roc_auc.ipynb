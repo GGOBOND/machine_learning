{
 "cells": [
  {
   "cell_type": "code",
   "execution_count": null,
   "metadata": {
    "collapsed": true
   },
   "outputs": [],
   "source": [
    "#绘制二分类ROC曲线\n",
    "import pylab as pl\n",
    "%matplotlib inline\n",
    "from math import log,exp,sqrt\n",
    "\n",
    "evaluate_result = \"1.txt\"\n",
    "db = []\n",
    "pos , neg = 0 , 0\n",
    "with open(evaluate_result , 'r') as fs:\n",
    "    for line in fs:\n",
    "        nonclk , clk , score = line.strip().split('\\t')\n",
    "        nonclk = int(nonclk)\n",
    "        clk = int(clk)\n",
    "        score = float(score)\n",
    "        db.append([score , nonclk , clk])\n",
    "        pos += clk\n",
    "        neg += nonclk\n",
    "\n",
    "db = sorted(db , key = lambda x:x[0] , reverse = True) #降序\n",
    "\n",
    "#计算ROC坐标点\n",
    "xy_arr = []\n",
    "tp , fp = 0. , 0.\n",
    "for i in range(len(db)):\n",
    "    tp += db[i][2]\n",
    "    fp += db[i][1]\n",
    "    xy_arr.append([tp/neg , fp/pos])\n",
    "\n",
    "#计算曲线下面积即AUC\n",
    "auc = 0.\n",
    "prev_x = 0\n",
    "for x ,y in xy_arr:\n",
    "    if x != prev_x:\n",
    "        auc += (x - prev_x) * y\n",
    "        prev_x = x\n",
    "print \"the auc is %s.\"%auc\n",
    "x = [_v[0] for _v in xy_arr]\n",
    "y = [_v[1] for _v in xy_arr]\n",
    "pl.title(\"ROC curve of %s (AUC = %.4f)\" % ('svm' , auc))\n",
    "pl.ylabel(\"False Positive Rate\")\n",
    "pl.plot(x ,y)\n",
    "pl.show()"
   ]
  }
 ],
 "metadata": {
  "kernelspec": {
   "display_name": "Python 2",
   "language": "python",
   "name": "python2"
  },
  "language_info": {
   "codemirror_mode": {
    "name": "ipython",
    "version": 2
   },
   "file_extension": ".py",
   "mimetype": "text/x-python",
   "name": "python",
   "nbconvert_exporter": "python",
   "pygments_lexer": "ipython2",
   "version": "2.7.12"
  }
 },
 "nbformat": 4,
 "nbformat_minor": 0
}
