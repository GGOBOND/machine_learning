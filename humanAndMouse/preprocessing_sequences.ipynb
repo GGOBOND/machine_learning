{
 "cells": [
  {
   "cell_type": "code",
   "execution_count": 41,
   "metadata": {
    "collapsed": false
   },
   "outputs": [],
   "source": [
    "# !/use/bin/env python\n",
    "# encoding:utf-8\n",
    "import pandas as pd\n",
    "import numpy as np\n",
    "import itertools\n",
    "from sklearn.model_selection import KFold  \n",
    "from sklearn import svm\n",
    "from sklearn.model_selection import train_test_split\n",
    "import math\n",
    "from xgboost import XGBClassifier\n",
    "from sklearn.neighbors import KNeighborsClassifier\n",
    "import easy_excel\n",
    "from sklearn.preprocessing import MinMaxScaler\n",
    "from sklearn.model_selection import *\n",
    "import sklearn.ensemble\n",
    "import joblib\n",
    "from sklearn.linear_model import LogisticRegression\n",
    "from sklearn import metrics\n",
    "from sklearn.metrics import roc_curve, auc\n",
    "import sys\n",
    "from sklearn.model_selection import GridSearchCV\n",
    "from sklearn.ensemble import RandomForestClassifier\n",
    "from sklearn.naive_bayes import GaussianNB  \n",
    "import subprocess\n",
    "from sklearn.utils import shuffle\n",
    "import itertools\n",
    "from sklearn.ensemble import GradientBoostingClassifier\n",
    "import sys\n",
    "from imblearn.combine import SMOTETomek\n",
    "inputname=\"m6a_data.txt\"\n",
    "outputname=\"preprocessingFile_m6a.fasta\"\n",
    "path=\"/home02/chenhuangrong/december_data/\""
   ]
  },
  {
   "cell_type": "code",
   "execution_count": 24,
   "metadata": {
    "collapsed": true
   },
   "outputs": [],
   "source": [
    "def read_fasta_file(path):\n",
    "    '''\n",
    "    used for load fasta data and transformd into numpy.array format\n",
    "    '''\n",
    "    fh=open(m6a_benchmark_dataset)\n",
    "    seq=[]\n",
    "    for line in fh:\n",
    "        if line.startswith('>'):\n",
    "            continue\n",
    "        else:\n",
    "            seq.append(line.replace('\\r','').replace('\\n',''))\n",
    "    fh.close()\n",
    "    matrix_data=np.array([list(e) for e in seq])\n",
    "    return matrix_data"
   ]
  },
  {
   "cell_type": "code",
   "execution_count": 25,
   "metadata": {
    "collapsed": true
   },
   "outputs": [],
   "source": [
    "def Comparing_score(query_sequence,original_sequence):\n",
    "    \n",
    "    score=0\n",
    "    for index,data in enumerate(query_sequence):\n",
    "        if data==original_sequence[index]:\n",
    "            score=score+2\n",
    "        else:\n",
    "            score=score-1\n",
    "    return score\n"
   ]
  },
  {
   "cell_type": "code",
   "execution_count": 26,
   "metadata": {
    "collapsed": true
   },
   "outputs": [],
   "source": [
    "def generating_one_column(matrix_data):\n",
    "    whole_comparison_score=[]\n",
    "    the_begin_of_index=len(matrix_data)/2\n",
    "    for index_1,data_1 in enumerate(matrix_data):\n",
    "        one_line_comparison_score=np.zeros(len(matrix_data))\n",
    "        mark_origin_label=np.zeros(len(matrix_data))\n",
    "        for index_2,data_2 in enumerate(matrix_data):\n",
    "            if index_1!=index_2:\n",
    "                one_line_comparison_score[index_1]=-100\n",
    "                if index_2<the_begin_of_index:\n",
    "                    mark_origin_label[index_2]=1\n",
    "                one_line_comparison_score[index_2]=Comparing_score(data_1,data_2)\n",
    "        temp=[]\n",
    "        temp=[one_line_comparison_score,mark_origin_label]\n",
    "        whole_comparison_score.append(temp)\n",
    "    return whole_comparison_score"
   ]
  },
  {
   "cell_type": "code",
   "execution_count": 151,
   "metadata": {
    "collapsed": false
   },
   "outputs": [],
   "source": [
    "def generating_features(matrix_data,K_list):\n",
    "    matrix=generating_one_column(matrix_data)\n",
    "    print np.asarray(matrix).shape\n",
    "    whole_=[]\n",
    "    line=[]\n",
    "    for index,data in enumerate(matrix):\n",
    "        idx=np.argsort(data[0])[::-1]\n",
    "        idx=idx[xrange(K_list)]\n",
    "        data[1]=pd.DataFrame(data[1])\n",
    "        datas=data[1].iloc[idx]\n",
    "        datas=datas.values\n",
    "        all_value=sum(datas)\n",
    "        if index>=(len(matrix_data)//2):\n",
    "            all_value=K_list-all_value\n",
    "        if (index<(len(matrix_data)//2) and all_value>=17):\n",
    "            line.append([\"\".join(matrix_data[index]),1])\n",
    "        if (index>=(len(matrix_data)//2) and all_value>=13):\n",
    "            line.append([\"\".join(matrix_data[index]),0])\n",
    "    print \"whole length is :{}\".format(len(line))\n",
    "    return line"
   ]
  },
  {
   "cell_type": "code",
   "execution_count": 152,
   "metadata": {
    "collapsed": false,
    "scrolled": false
   },
   "outputs": [
    {
     "name": "stdout",
     "output_type": "stream",
     "text": [
      "(2614, 2, 2614)\n",
      "whole length is :1903\n"
     ]
    }
   ],
   "source": [
    "\n",
    "m6a_benchmark_dataset=path+inputname\n",
    "matrix_data=read_fasta_file(m6a_benchmark_dataset)\n",
    "final_feature_matrix=generating_features(matrix_data,30)\n",
    "pd.DataFrame(final_feature_matrix[0]).to_csv(path+outputname,header=None,index=False)\n",
    "\n",
    "\n"
   ]
  },
  {
   "cell_type": "code",
   "execution_count": 153,
   "metadata": {
    "collapsed": false
   },
   "outputs": [],
   "source": [
    "def save_to_file(file_name, contents):\n",
    "    fh = open(file_name, 'w')\n",
    "    for line in contents:\n",
    "        fh.write(str(line)+'\\n')\n",
    "    fh.close()\n",
    "save_to_file(path+outputname,final_feature_matrix)"
   ]
  },
  {
   "cell_type": "code",
   "execution_count": 154,
   "metadata": {
    "collapsed": false
   },
   "outputs": [],
   "source": [
    "def load_from_file(filename):\n",
    "    fh= open(filename,'r')\n",
    "    lines =list(fh.readlines())\n",
    "    fh.close()\n",
    "    X=[]\n",
    "    Y=[]\n",
    "    for line in lines:\n",
    "        line= line.replace('\\n',\"\").replace('[',\"\")\n",
    "        line= line.replace(']',\"\").replace('\\'',\"\")\n",
    "        line_x= line.split(',')[0]\n",
    "        line_y= line.split(',')[1]\n",
    "        X.append(line_x)\n",
    "        Y.append(int(line_y))\n",
    "    return X,np.asarray(Y)"
   ]
  },
  {
   "cell_type": "code",
   "execution_count": 256,
   "metadata": {
    "collapsed": false
   },
   "outputs": [
    {
     "name": "stdout",
     "output_type": "stream",
     "text": [
      "original_positive_samples_num :936\n",
      "original_negative_samples_num :967\n",
      "final_positive_samples_num :936\n",
      "final_negative_samples_num :936\n"
     ]
    }
   ],
   "source": [
    "samples,labels=load_from_file(path+outputname)\n",
    "negative_samples_num=len(samples)-sum(labels)\n",
    "positive_samples_num=sum(labels)\n",
    "print \"original_positive_samples_num :{}\".format(positive_samples_num)\n",
    "print \"original_negative_samples_num :{}\".format(negative_samples_num)\n",
    "if negative_samples_num >=positive_samples_num:\n",
    "    negative_samples=np.random.choice(samples[positive_samples_num:],positive_samples_num, replace=False)\n",
    "    negative_lables=np.random.choice(labels[positive_samples_num:],positive_samples_num, replace=False)\n",
    "    positive_samples=samples[0:positive_samples_num]\n",
    "    positive_labels=labels[0:positive_samples_num]\n",
    "else:\n",
    "    positive_samples=np.random.choice(samples[0:positive_samples_num],negative_samples_num, replace=False)\n",
    "    positive_labels=np.random.choice(labels[0:positive_samples_num],negative_samples_num, replace=False)\n",
    "    negative_samples=samples[positive_samples_num:]\n",
    "    negative_labels=labels[positive_samples_num:]\n",
    "print \"final_positive_samples_num :{}\".format(len(positive_samples))\n",
    "print \"final_negative_samples_num :{}\".format(len(negative_samples))\n",
    "XX=positive_samples\n",
    "XX.extend(negative_samples)\n",
    "save_to_file(path+\"final_preprocessing.fasta\",XX)\n",
    "    "
   ]
  },
  {
   "cell_type": "code",
   "execution_count": null,
   "metadata": {
    "collapsed": true
   },
   "outputs": [],
   "source": []
  }
 ],
 "metadata": {
  "kernelspec": {
   "display_name": "Python 2",
   "language": "python",
   "name": "python2"
  },
  "language_info": {
   "codemirror_mode": {
    "name": "ipython",
    "version": 2
   },
   "file_extension": ".py",
   "mimetype": "text/x-python",
   "name": "python",
   "nbconvert_exporter": "python",
   "pygments_lexer": "ipython2",
   "version": "2.7.12"
  }
 },
 "nbformat": 4,
 "nbformat_minor": 0
}
