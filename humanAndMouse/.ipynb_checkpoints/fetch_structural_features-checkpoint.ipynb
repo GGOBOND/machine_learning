{
 "cells": [
  {
   "cell_type": "code",
   "execution_count": 92,
   "metadata": {
    "collapsed": false,
    "scrolled": true
   },
   "outputs": [
    {
     "name": "stdout",
     "output_type": "stream",
     "text": [
      "(2260, 100)\n"
     ]
    }
   ],
   "source": [
    "import pandas as pd\n",
    "import numpy as np\n",
    "import random\n",
    "import os\n",
    "import sys\n",
    "inputname=sys.argv[1]\n",
    "temp_fasta=sys.argv[2]\n",
    "outputname=sys.argv[3]\n",
    "print \"start program\"\n",
    "# read fasta file and generating it into array sequences\n",
    "def read_fasta_file(path):\n",
    "    '''\n",
    "    used for load fasta data and transformd into numpy.array format\n",
    "    '''\n",
    "    fh=open(path)\n",
    "    seq=[]\n",
    "    for line in fh:\n",
    "        if line.startswith('>'):\n",
    "            continue\n",
    "        else:\n",
    "            seq.append(line.replace('\\r','').replace('\\n',''))\n",
    "    fh.close()\n",
    "    matrix_data=np.array([list(e) for e in seq])\n",
    "    return matrix_data\n",
    "\n",
    "\n",
    "\n",
    "\n",
    "def generating_sequences_function(sequences,seed):\n",
    "    random.seed(seed)\n",
    "    generating_sequences_temp=[]\n",
    "    for index,line in enumerate(sequences):\n",
    "        generating_sequences_temp.append(\">name\"+str(index+1)+\"\\n\")\n",
    "        random.shuffle(line)\n",
    "        line=\"\".join(list(line))\n",
    "        generating_sequences_temp.append(line+\"\\n\")\n",
    "    return generating_sequences_temp\n",
    "\n",
    "#minimum free energy\n",
    "def read_MFE_from_log(MFE_file_path):\n",
    "    MFE_line_temp=[]\n",
    "    with open(MFE_file_path) as f:\n",
    "        lines=f.readlines()\n",
    "        for index in xrange(len(lines)):\n",
    "            if (index+1)%3==0:\n",
    "                MFE_line_temp.append(float(lines[index][(len(lines[2])-7):len(lines[2])-2]))\n",
    "    return MFE_line_temp\n",
    "        \n",
    "\n",
    "from sklearn import preprocessing\n",
    "MFE_all=[]\n",
    "original_sequences=read_fasta_file(inputname)\n",
    "os.system(\"RNAfold < \"+inputname+\" > \"+outputname)\n",
    "MFE_line=read_MFE_from_log(outputname)\n",
    "MFE_all.append(MFE_line)\n",
    "for echo_num in xrange(1,101):\n",
    "    original_sequences=read_fasta_file(inputname)\n",
    "    generating_sequences=generating_sequences_function(original_sequences,echo_num)\n",
    "    with open(temp_fasta,'w') as f:\n",
    "        f.writelines(generating_sequences)\n",
    "    os.system(\"RNAfold < \"+temp_fasta+\" > \"+outputname)\n",
    "    MFE_line=read_MFE_from_log(outputname)\n",
    "    MFE_all.append(MFE_line)\n",
    "    print \"echo \",echo_num,\"is done\"\n",
    "Standerscaler=preprocessing.StandardScaler()\n",
    "MFE_all=Standerscaler.fit_transform(MFE_all)\n",
    "MFE_all=np.array(MFE_all).T\n",
    "print np.array(MFE_all).shape   \n",
    "pd.DataFrame(MFE_all).to_csv(outputname, header=None, index=None)    \n",
    "print \"end program\"\n",
    "    "
   ]
  }
 ],
 "metadata": {
  "kernelspec": {
   "display_name": "Python 2",
   "language": "python",
   "name": "python2"
  },
  "language_info": {
   "codemirror_mode": {
    "name": "ipython",
    "version": 2
   },
   "file_extension": ".py",
   "mimetype": "text/x-python",
   "name": "python",
   "nbconvert_exporter": "python",
   "pygments_lexer": "ipython2",
   "version": "2.7.12"
  }
 },
 "nbformat": 4,
 "nbformat_minor": 0
}
