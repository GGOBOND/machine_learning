{
 "cells": [
  {
   "cell_type": "code",
   "execution_count": 6,
   "metadata": {
    "collapsed": false
   },
   "outputs": [
    {
     "ename": "NameError",
     "evalue": "name 'input_files' is not defined",
     "output_type": "error",
     "traceback": [
      "\u001b[0;31m---------------------------------------------------------------------------\u001b[0m",
      "\u001b[0;31mNameError\u001b[0m                                 Traceback (most recent call last)",
      "\u001b[0;32m<ipython-input-6-738f4593baf0>\u001b[0m in \u001b[0;36m<module>\u001b[0;34m()\u001b[0m\n\u001b[1;32m     41\u001b[0m             \u001b[0msys\u001b[0m\u001b[0;34m.\u001b[0m\u001b[0mexit\u001b[0m\u001b[0;34m(\u001b[0m\u001b[0;34m)\u001b[0m\u001b[0;34m\u001b[0m\u001b[0m\n\u001b[1;32m     42\u001b[0m     \u001b[0;32mreturn\u001b[0m \u001b[0msvm_files\u001b[0m\u001b[0;34m\u001b[0m\u001b[0m\n\u001b[0;32m---> 43\u001b[0;31m \u001b[0minput_files\u001b[0m \u001b[0;34m=\u001b[0m \u001b[0marff2svm\u001b[0m\u001b[0;34m(\u001b[0m\u001b[0minput_files\u001b[0m\u001b[0;34m)\u001b[0m\u001b[0;34m\u001b[0m\u001b[0m\n\u001b[0m\u001b[1;32m     44\u001b[0m \u001b[0;32mfor\u001b[0m \u001b[0minput_file\u001b[0m \u001b[0;32min\u001b[0m \u001b[0minput_files\u001b[0m\u001b[0;34m:\u001b[0m\u001b[0;34m\u001b[0m\u001b[0m\n\u001b[1;32m     45\u001b[0m     \u001b[0mX\u001b[0m\u001b[0;34m,\u001b[0m \u001b[0my\u001b[0m \u001b[0;34m=\u001b[0m \u001b[0mget_data\u001b[0m\u001b[0;34m(\u001b[0m\u001b[0minput_file\u001b[0m\u001b[0;34m)\u001b[0m\u001b[0;34m\u001b[0m\u001b[0m\n",
      "\u001b[0;31mNameError\u001b[0m: name 'input_files' is not defined"
     ]
    }
   ],
   "source": [
    "from sklearn.datasets import load_svmlight_file\n",
    "import pyfaidx\n",
    "from sklearn.externals.joblib import Memory\n",
    "mem = Memory(\"./mycache\")\n",
    "@mem.cache\n",
    "def get_data(file_name):\n",
    "    data = load_svmlight_file(file_name)\n",
    "    return data[0], data[1]\n",
    "def arff2svm(arff_files):\n",
    "    svm_files = []\n",
    "    for arff_file in arff_files:\n",
    "        name = arff_file[0: arff_file.rindex('.')]\n",
    "        tpe = arff_file[arff_file.rindex('.')+1:]\n",
    "        svm_file = name+\".libsvm\"\n",
    "        svm_files.append(svm_file)\n",
    "        if tpe == \"arff\":\n",
    "            if os.path.exists(svm_file):\n",
    "                pass\n",
    "            else:\n",
    "                f = open(arff_file)\n",
    "                w = open(svm_file, 'w')\n",
    "                flag = False\n",
    "                for line in f.readlines():\n",
    "                    if flag:\n",
    "                        if line.strip() == '':\n",
    "                            continue\n",
    "                        temp = line.strip('\\n').split(',')\n",
    "                        w.write(temp[len(temp)-1])\n",
    "                        for i in range(len(temp)-1):\n",
    "                            w.write(' '+str(i+1)+':'+str(temp[i]))\n",
    "                        w.write('\\n')\n",
    "                    else:\n",
    "                        line = line.upper()\n",
    "                        if line.startswith('@DATA') or flag:\n",
    "                            flag = True\n",
    "                f.close()\n",
    "                w.close()\n",
    "        elif tpe == \"libsvm\":\n",
    "            continue\n",
    "        else:\n",
    "            print \"File format error! Arff and libsvm are passed.\"\n",
    "            sys.exit()\n",
    "    return svm_files\n",
    "input_files = arff2svm(\"/home02/chenhuangrong/\")\n",
    "for input_file in input_files:\n",
    "    X, y = get_data(input_file)\n",
    "    print X,y"
   ]
  }
 ],
 "metadata": {
  "kernelspec": {
   "display_name": "Python 2",
   "language": "python",
   "name": "python2"
  },
  "language_info": {
   "codemirror_mode": {
    "name": "ipython",
    "version": 2
   },
   "file_extension": ".py",
   "mimetype": "text/x-python",
   "name": "python",
   "nbconvert_exporter": "python",
   "pygments_lexer": "ipython2",
   "version": "2.7.12"
  }
 },
 "nbformat": 4,
 "nbformat_minor": 0
}
